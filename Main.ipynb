{
 "cells": [
  {
   "cell_type": "markdown",
   "metadata": {},
   "source": [
    "# Left Ventricle Full Quantification (LVQuan18) Challenge MICCAI 2018"
   ]
  },
  {
   "cell_type": "markdown",
   "metadata": {},
   "source": [
    "\n",
    "Accurate cardiac left ventricle (LV) quantification is among the most clinically important and most frequently demanded tasks for identification and diagnosis of cardiac diseases and is of great interest in the research community of medical image analysis.\n",
    "To explain what the challenge is about in the context of machine learning, I use the approach explained here:\n",
    "https://machinelearningmastery.com/how-to-define-your-machine-learning-problem/.\n",
    "\n",
    "It involves answering three questions:\n",
    "\n",
    "### Problem description\n",
    "\n",
    "In one sentence, we want a system that will find some information about the Left Ventricle (LV) out of cardiac images\n",
    "to diagnose some heart diseases.\n",
    "\n",
    "Tom Mitchell’s definition of a machine learning problem requires the definition of Tasks,\n",
    "Experience and Performance. These terms are defined for this problem as follows:\n",
    "\n",
    "* Tasks: Compute LV indices of each slice of patient cardiac SAX MR images. These indices are:\n",
    "\n",
    "    1. Areas of LV cavity and myocardium : $A_{1}$ and $A_{2}$ (see Fig.1(a))\n",
    "    2. Dimensions of LV cavity: $D_{1}, D_{2}$ and $D_{3}$ (see Fig.1(b))\n",
    "    3. Reginal Wall Thickness of myocardium: $RWT_{1}, ..., RWT_{6}$ (see Fig.1(c))\n",
    "    4. Cardiac phase (when images are acquired): diastole (0) or systole(1) (see Fig.1(d))\n",
    "   \n",
    "   <figure>\n",
    "  <img src=\"data/lvquan.jpg\" width=\"600\">\n",
    "  <figcaption> <center> Figure 1. LV indices to find. Orange and green areas are respectively LV cavity and myocardium.\n",
    "  </center> </figcaption>\n",
    "</figure>\n",
    "   \n",
    "    \n",
    "* Experiences: A set of 145 anonymized patient cardiac SAX MR images with all 4 indices for each slice.\n",
    "\n",
    "\n",
    "* Performance: Mean Absolute Error (MAE) to assess the performance of the method for estimation of indices 1,2 and 3. For the last indice, the Error Rate of the misclassified cardiac phase is used. Their formulae are:\n",
    "\n",
    "\n",
    "$ MAE_{indice} = \\frac{\\sum_{i=1}^{N} \\lvert Pred^{indice}_{i}  -  GT^{indice}_{i} \\rvert }{N} $\n",
    "\n",
    "$ER_{phase} = \\frac{\\sum_{i=1}^{N} Cardinal(Pred^{phase}_{i} \\neq GT^{phase}_{i}) }{N} $\n",
    "\n",
    "### The dataset provided\n",
    "\n",
    "A training dataset with processed SAX MR sequences of 145 subjects from clinical environment is used for model learning and validation.\n",
    "\n",
    "For each subject, 20 frames are included for the whole cardiac cycle. All ground truth values of the above-mentioned LV indices are provided for every single frame. More details about the training dataset can be found in the document of the DIG-Cardiac dataset. \n",
    "\n",
    "\n",
    "A complete information of the challenge can be found at: https://lvquan18.github.io/\n",
    "\n",
    "References: \n",
    "\n",
    "[1]: Figure 1 from https://lvquan18.github.io/2018/03/12/objective.html"
   ]
  },
  {
   "cell_type": "code",
   "execution_count": 73,
   "metadata": {
    "collapsed": true
   },
   "outputs": [],
   "source": [
    "import numpy as np\n",
    "from matplotlib import pyplot as plt\n",
    "from fastai.conv_learner import *\n",
    "from fastai.dataset import *\n",
    "\n",
    "from pathlib import Path\n",
    "import json\n",
    "from PIL import ImageDraw, ImageFont\n",
    "from matplotlib import patches, patheffects\n",
    "%matplotlib inline\n",
    "%reload_ext autoreload\n",
    "%autoreload 2\n",
    "\n",
    "PATH ='data/'"
   ]
  },
  {
   "cell_type": "markdown",
   "metadata": {},
   "source": [
    "## Dataset exploration\n",
    "\n",
    "The provided dataset is a matlab file (.mat). \n",
    "\n",
    "Thus we're going to use scipy.io which can open this kind of file in python."
   ]
  },
  {
   "cell_type": "code",
   "execution_count": 74,
   "metadata": {},
   "outputs": [
    {
     "data": {
      "text/plain": [
       "dict_keys(['__header__', '__version__', '__globals__', 'areas', 'dims', 'endo_LV', 'epi_LV', 'images_LV', 'lv_phase', 'pix_spa', 'ratio_resize_inverse', 'rwt'])"
      ]
     },
     "execution_count": 74,
     "metadata": {},
     "output_type": "execute_result"
    }
   ],
   "source": [
    "import scipy.io as sio\n",
    "\n",
    "data = sio.loadmat(PATH+'cardiac-dig.mat')\n",
    "data.keys()\n"
   ]
  },
  {
   "cell_type": "code",
   "execution_count": 3,
   "metadata": {},
   "outputs": [
    {
     "data": {
      "text/plain": [
       "'(80, 80, 2900), 2900 / 20 frames =  145.0 patients'"
      ]
     },
     "execution_count": 3,
     "metadata": {},
     "output_type": "execute_result"
    }
   ],
   "source": [
    "f'{data[\"images_LV\"].shape}, 2900 / 20 frames =  {2900/20} patients'"
   ]
  },
  {
   "cell_type": "code",
   "execution_count": 4,
   "metadata": {},
   "outputs": [
    {
     "name": "stdout",
     "output_type": "stream",
     "text": [
      "Number of sequences in diastolic phase :  84\n",
      "Number of sequences in systolic phase  :  61\n",
      "Total                                  : 145\n"
     ]
    }
   ],
   "source": [
    "n_diastolic = np.sum(data[\"lv_phase\"] == 0) // 20\n",
    "n_systolic = np.sum(data[\"lv_phase\"] == 1) // 20\n",
    "print(f'Number of sequences in diastolic phase :  {n_diastolic}')\n",
    "print(f'Number of sequences in systolic phase  :  {n_systolic}')\n",
    "print(f'Total                                  : {n_diastolic + n_systolic}')\n"
   ]
  },
  {
   "cell_type": "markdown",
   "metadata": {},
   "source": [
    "### An analysis of the relation between LV cavity area and the phase"
   ]
  },
  {
   "cell_type": "code",
   "execution_count": 5,
   "metadata": {
    "scrolled": true
   },
   "outputs": [
    {
     "name": "stdout",
     "output_type": "stream",
     "text": [
      "[0 1 1 1 1 1 1 1 0 0 0 0 0 0 0 0 0 0 0 0]\n",
      "[0 1 1 1 1 1 1 1 1 0 0 0 0 0 0 0 0 0 0 0]\n",
      "[0 0 1 1 1 1 1 0 0 0 0 0 0 0 0 0 0 0 0 0]\n",
      "[1 1 1 1 1 1 1 0 0 0 0 0 0 0 0 0 0 0 0 1]\n",
      "[1 1 1 1 1 1 1 1 0 0 0 0 0 0 0 0 0 0 0 0]\n"
     ]
    },
    {
     "data": {
      "text/plain": [
       "Text(0,0.5,'Area of LV cavity')"
      ]
     },
     "execution_count": 5,
     "metadata": {},
     "output_type": "execute_result"
    },
    {
     "data": {
      "image/png": "[encoded data removed]",
      "text/plain": [
       "<matplotlib.figure.Figure at 0x7efeeea68470>"
      ]
     },
     "metadata": {},
     "output_type": "display_data"
    }
   ],
   "source": [
    "S = 20\n",
    "k = 5\n",
    "A = 0\n",
    "for i in range(k):\n",
    "    print(data['lv_phase'][0,i*S:(i+1)*S])\n",
    "    \n",
    "plt.plot(data['areas'][A,:S], 'b', range(S, 2*S), data['areas'][A,S:S+S], 'r',\n",
    "        range(2*S, 3*S), data['areas'][A,2*S:3*S], 'g', \n",
    "        range(3*S, 4*S), data['areas'][A,3*S:4*S], 'b',\n",
    "        range(4*S, 5*S), data['areas'][A,4*S:5*S], 'r')\n",
    "plt.xlabel('slice number')\n",
    "plt.ylabel('Area of LV cavity')"
   ]
  },
  {
   "cell_type": "markdown",
   "metadata": {},
   "source": [
    "**Remark:**\n",
    "\n",
    "It appears from the plot above that when the LV cavity area decreases, the phase is 1: Systole.\n",
    "\n",
    "And, it equals 0 (diastole) when LV cavity increases. So one way to find the phase is to track\n",
    "the LV cavity area"
   ]
  },
  {
   "cell_type": "code",
   "execution_count": 7,
   "metadata": {
    "collapsed": true
   },
   "outputs": [],
   "source": [
    "patient = data['images_LV'][:,:,:20]\n",
    "seg_endo = data['endo_LV'][:,:,:20]\n",
    "seg_epi = data['epi_LV'][:,:,:20]\n",
    "\n",
    "def get_sample(seq, size=3):\n",
    "    return np.hstack([seq[:,:,i] for i in range(size)])"
   ]
  },
  {
   "cell_type": "code",
   "execution_count": 8,
   "metadata": {
    "scrolled": true
   },
   "outputs": [
    {
     "data": {
      "image/png": "[encoded data removed]",
      "text/plain": [
       "<matplotlib.figure.Figure at 0x7f918209ba58>"
      ]
     },
     "metadata": {},
     "output_type": "display_data"
    }
   ],
   "source": [
    "n = 3\n",
    "slice_sample = get_sample(patient, n)\n",
    "seg_endo_sample = get_sample(seg_endo, n)\n",
    "seg_epi_sample = get_sample(seg_epi, n)\n",
    "samples = np.vstack((slice_sample, seg_endo_sample, seg_epi_sample))\n",
    "plt.imshow(samples, cmap='gray')\n",
    "plt.title(f'{n} slices')\n",
    "plt.axis(\"off\")\n",
    "plt.show()\n"
   ]
  },
  {
   "cell_type": "code",
   "execution_count": 9,
   "metadata": {},
   "outputs": [
    {
     "name": "stdout",
     "output_type": "stream",
     "text": [
      "dims attribute (3, 2900) [ 0.40795  0.4411   0.40617]\n",
      "areas attribute (2, 2900) [ 0.13742  0.09059]\n",
      "rwt attribute (6, 2900) [ 0.06005  0.04753  0.05253  0.05125  0.04902  0.06165]\n"
     ]
    }
   ],
   "source": [
    "print ('dims attribute', data['dims'].shape, data['dims'][:,0])\n",
    "print ('areas attribute', data['areas'].shape, data['areas'][:,0])\n",
    "print ('rwt attribute', data['rwt'].shape, data['rwt'][:,0])"
   ]
  },
  {
   "cell_type": "markdown",
   "metadata": {},
   "source": [
    "# Our approach\n",
    "\n",
    "We're going to directly predict LV indices from images without segmentation.\n",
    "\n",
    "For that we use a classical model (e.g resnet50) for a regression task where the output\n",
    "vector will contain all these values:\n",
    "1. Areas: 2 values\n",
    "2. Dimensions: 3 values\n",
    "3. Reginal Wall Thickness: 6 values\n",
    "\n",
    "Thus, an output vector of 11 values.\n",
    "\n",
    "For the cardiac phase, we plan to use direct algorithm, no machine learning,\n",
    "that will track LV area (A1) across slices and use the remark done above\n",
    "to find the cardiac phase.\n"
   ]
  },
  {
   "cell_type": "code",
   "execution_count": 10,
   "metadata": {
    "collapsed": true
   },
   "outputs": [],
   "source": [
    "def show_min_max(feats, name):\n",
    "    print(f'min')\n",
    "    \n",
    "min_max = {}\n",
    "for k in ['areas', 'dims', 'rwt']:\n",
    "    l = data[k].shape[0]\n",
    "    for i in range(l):\n",
    "        min_max[k+'_'+str(i+1)] = [np.min(data[k][i,:]), np.max(data[k][i,:]), np.mean(data[k][i,:])]"
   ]
  },
  {
   "cell_type": "code",
   "execution_count": 11,
   "metadata": {},
   "outputs": [
    {
     "name": "stdout",
     "output_type": "stream",
     "text": [
      "                0         1         2\n",
      "areas_1  0.028125  0.206016  0.122527\n",
      "areas_2  0.049023  0.245039  0.115107\n",
      "dims_1   0.188220  0.509289  0.377495\n",
      "dims_2   0.195758  0.540953  0.402957\n",
      "dims_3   0.173934  0.556315  0.392373\n",
      "rwt_1    0.021334  0.198047  0.085638\n",
      "rwt_2    0.010757  0.170242  0.065623\n",
      "rwt_3    0.016626  0.173010  0.064851\n",
      "rwt_4    0.019094  0.167630  0.066266\n",
      "rwt_5    0.018727  0.179142  0.064009\n",
      "rwt_6    0.024604  0.209354  0.080259\n"
     ]
    }
   ],
   "source": [
    "df = pd.DataFrame(min_max).transpose()\n",
    "print(df)\n",
    "df.to_csv(\"LV_indices_sumup.csv\",  header=[ 'min', 'max', 'mean'])"
   ]
  },
  {
   "cell_type": "code",
   "execution_count": 12,
   "metadata": {},
   "outputs": [
    {
     "data": {
      "text/html": [
       "<div>\n",
       "<style>\n",
       "    .dataframe thead tr:only-child th {\n",
       "        text-align: right;\n",
       "    }\n",
       "\n",
       "    .dataframe thead th {\n",
       "        text-align: left;\n",
       "    }\n",
       "\n",
       "    .dataframe tbody tr th {\n",
       "        vertical-align: top;\n",
       "    }\n",
       "</style>\n",
       "<table border=\"1\" class=\"dataframe\">\n",
       "  <thead>\n",
       "    <tr style=\"text-align: right;\">\n",
       "      <th></th>\n",
       "      <th>Unnamed: 0</th>\n",
       "      <th>min</th>\n",
       "      <th>max</th>\n",
       "      <th>mean</th>\n",
       "    </tr>\n",
       "  </thead>\n",
       "  <tbody>\n",
       "    <tr>\n",
       "      <th>0</th>\n",
       "      <td>areas_1</td>\n",
       "      <td>0.028125</td>\n",
       "      <td>0.206016</td>\n",
       "      <td>0.122527</td>\n",
       "    </tr>\n",
       "    <tr>\n",
       "      <th>1</th>\n",
       "      <td>areas_2</td>\n",
       "      <td>0.049023</td>\n",
       "      <td>0.245039</td>\n",
       "      <td>0.115107</td>\n",
       "    </tr>\n",
       "    <tr>\n",
       "      <th>2</th>\n",
       "      <td>dims_1</td>\n",
       "      <td>0.188220</td>\n",
       "      <td>0.509289</td>\n",
       "      <td>0.377495</td>\n",
       "    </tr>\n",
       "    <tr>\n",
       "      <th>3</th>\n",
       "      <td>dims_2</td>\n",
       "      <td>0.195758</td>\n",
       "      <td>0.540953</td>\n",
       "      <td>0.402957</td>\n",
       "    </tr>\n",
       "    <tr>\n",
       "      <th>4</th>\n",
       "      <td>dims_3</td>\n",
       "      <td>0.173934</td>\n",
       "      <td>0.556315</td>\n",
       "      <td>0.392373</td>\n",
       "    </tr>\n",
       "    <tr>\n",
       "      <th>5</th>\n",
       "      <td>rwt_1</td>\n",
       "      <td>0.021334</td>\n",
       "      <td>0.198047</td>\n",
       "      <td>0.085638</td>\n",
       "    </tr>\n",
       "    <tr>\n",
       "      <th>6</th>\n",
       "      <td>rwt_2</td>\n",
       "      <td>0.010757</td>\n",
       "      <td>0.170242</td>\n",
       "      <td>0.065623</td>\n",
       "    </tr>\n",
       "    <tr>\n",
       "      <th>7</th>\n",
       "      <td>rwt_3</td>\n",
       "      <td>0.016626</td>\n",
       "      <td>0.173010</td>\n",
       "      <td>0.064851</td>\n",
       "    </tr>\n",
       "    <tr>\n",
       "      <th>8</th>\n",
       "      <td>rwt_4</td>\n",
       "      <td>0.019094</td>\n",
       "      <td>0.167630</td>\n",
       "      <td>0.066266</td>\n",
       "    </tr>\n",
       "    <tr>\n",
       "      <th>9</th>\n",
       "      <td>rwt_5</td>\n",
       "      <td>0.018727</td>\n",
       "      <td>0.179142</td>\n",
       "      <td>0.064009</td>\n",
       "    </tr>\n",
       "    <tr>\n",
       "      <th>10</th>\n",
       "      <td>rwt_6</td>\n",
       "      <td>0.024604</td>\n",
       "      <td>0.209354</td>\n",
       "      <td>0.080259</td>\n",
       "    </tr>\n",
       "  </tbody>\n",
       "</table>\n",
       "</div>"
      ],
      "text/plain": [
       "   Unnamed: 0       min       max      mean\n",
       "0     areas_1  0.028125  0.206016  0.122527\n",
       "1     areas_2  0.049023  0.245039  0.115107\n",
       "2      dims_1  0.188220  0.509289  0.377495\n",
       "3      dims_2  0.195758  0.540953  0.402957\n",
       "4      dims_3  0.173934  0.556315  0.392373\n",
       "5       rwt_1  0.021334  0.198047  0.085638\n",
       "6       rwt_2  0.010757  0.170242  0.065623\n",
       "7       rwt_3  0.016626  0.173010  0.064851\n",
       "8       rwt_4  0.019094  0.167630  0.066266\n",
       "9       rwt_5  0.018727  0.179142  0.064009\n",
       "10      rwt_6  0.024604  0.209354  0.080259"
      ]
     },
     "execution_count": 12,
     "metadata": {},
     "output_type": "execute_result"
    }
   ],
   "source": [
    "infos = pd.read_csv('LV_indices_sumup.csv', )\n",
    "infos"
   ]
  },
  {
   "cell_type": "code",
   "execution_count": 6,
   "metadata": {
    "collapsed": true
   },
   "outputs": [],
   "source": [
    "from fastai.conv_learner import *\n",
    "from fastai.dataset import *\n",
    "\n",
    "from pathlib import Path\n",
    "import json\n",
    "from PIL import ImageDraw, ImageFont\n",
    "from matplotlib import patches, patheffects\n",
    "# torch.cuda.set_device(3)"
   ]
  },
  {
   "cell_type": "markdown",
   "metadata": {},
   "source": [
    "### Format input/output for CNN"
   ]
  },
  {
   "cell_type": "code",
   "execution_count": 45,
   "metadata": {},
   "outputs": [
    {
     "name": "stdout",
     "output_type": "stream",
     "text": [
      "(2900, 11)\n",
      "(2900, 80, 80)\n"
     ]
    },
    {
     "data": {
      "text/plain": [
       "<matplotlib.image.AxesImage at 0x7efedfeb8208>"
      ]
     },
     "execution_count": 45,
     "metadata": {},
     "output_type": "execute_result"
    },
    {
     "data": {
      "image/png": "[encoded data removed]",
      "text/plain": [
       "<matplotlib.figure.Figure at 0x7efee0442470>"
      ]
     },
     "metadata": {},
     "output_type": "display_data"
    }
   ],
   "source": [
    "x = np.moveaxis(data['images_LV'], -1, 0)\n",
    "y = np.concatenate((data['areas'],data['dims'], data['rwt'])).T\n",
    "print(y.shape)\n",
    "print(x.shape)\n",
    "plt.imshow(x[0], cmap='gray')"
   ]
  },
  {
   "cell_type": "code",
   "execution_count": 77,
   "metadata": {},
   "outputs": [],
   "source": [
    "# trn, val, test\n",
    "val = get_cv_idxs(115, val_pct=0.28)\n",
    "trn = np.array(list(set(range(115)) - set(val)))\n",
    "test = np.arange(115, 145)\n",
    "dtrn = (x[trn], y[trn])\n",
    "dval = (x[val], y[val])\n",
    "dtest = (x[test], y[test])\n",
    "darray = (dtrn, dval, dtest)"
   ]
  },
  {
   "cell_type": "code",
   "execution_count": null,
   "metadata": {
    "collapsed": true
   },
   "outputs": [],
   "source": [
    "class ArraysIndexRegressionDataset(ArraysIndexDataset):\n",
    "    def get_c(self): return int(self.y.max())+1\n",
    "    def get_y(self, i): return self.y[i]"
   ]
  },
  {
   "cell_type": "code",
   "execution_count": 80,
   "metadata": {},
   "outputs": [],
   "source": [
    "def get_data(darray, arch, bs, aug=transforms_top_down):\n",
    "    tfms = tfms_from_model(arch, sz=80, aug_tfms=aug, crop_type=CropType.NO)\n",
    "    trn, val, test = darray\n",
    "    data = ImageClassifierData.from_arrays(PATH, trn, val, bs, tfms, test=test, continuous)\n",
    "    return data\n",
    "\n",
    "arch = resnext50\n",
    "bs=8\n",
    "f_data = get_data(darray, arch, bs, aug=transforms_top_down)"
   ]
  },
  {
   "cell_type": "code",
   "execution_count": 96,
   "metadata": {},
   "outputs": [
    {
     "data": {
      "text/plain": [
       "(11,)"
      ]
     },
     "execution_count": 96,
     "metadata": {},
     "output_type": "execute_result"
    }
   ],
   "source": [
    "# learner = ConvLearner.pretrained(arch, data,precompute=False,  )"
   ]
  },
  {
   "cell_type": "markdown",
   "metadata": {},
   "source": [
    "## Visualization of endocardium and epicardium"
   ]
  },
  {
   "cell_type": "code",
   "execution_count": 167,
   "metadata": {},
   "outputs": [
    {
     "data": {
      "text/plain": [
       "<matplotlib.image.AxesImage at 0x7f69e0600710>"
      ]
     },
     "execution_count": 167,
     "metadata": {},
     "output_type": "execute_result"
    },
    {
     "data": {
      "image/png": "[encoded data removed]",
      "text/plain": [
       "<matplotlib.figure.Figure at 0x7f69e06f6c50>"
      ]
     },
     "metadata": {},
     "output_type": "display_data"
    }
   ],
   "source": [
    "red  = (255, 0, 0) #np.array([255, 0, 0], dtype=np.uint8)\n",
    "green = (0, 255, 0) #np.array([0, 255, 0], dtype=np.uint8)\n",
    "blue   = (0, 0, 255) \n",
    "def overlay(im, mask, color):\n",
    "    overlaid = im.copy()\n",
    "    for i in range(im.shape[0]):\n",
    "        for j in range(im.shape[1]):\n",
    "            if (mask[i,j] > 100).all():\n",
    "                overlaid[i,j] = color\n",
    "    return overlaid\n",
    "\n",
    "pat_endo = data['endo_LV'][:,:,200]\n",
    "pat_endo = make_cv2_compatible(pat_endo)\n",
    "pat_epi = data['epi_LV'][:,:,200]\n",
    "pat_epi = make_cv2_compatible(pat_epi)\n",
    "both = overlay(pat_epi, pat_endo, red)\n",
    "plt.imshow(both)\n",
    "\n"
   ]
  },
  {
   "cell_type": "markdown",
   "metadata": {},
   "source": [
    "## Compute Bounding Boxes of endocardium and epicardium segments"
   ]
  },
  {
   "cell_type": "code",
   "execution_count": 169,
   "metadata": {},
   "outputs": [
    {
     "name": "stdout",
     "output_type": "stream",
     "text": [
      "(80, 80, 3)\n",
      "1\n",
      "(22, 20, 50, 43)\n"
     ]
    },
    {
     "data": {
      "text/plain": [
       "<matplotlib.image.AxesImage at 0x7f69e0945e48>"
      ]
     },
     "execution_count": 169,
     "metadata": {},
     "output_type": "execute_result"
    },
    {
     "data": {
      "image/png": "[encoded data removed]",
      "text/plain": [
       "<matplotlib.figure.Figure at 0x7f69e068d860>"
      ]
     },
     "metadata": {},
     "output_type": "display_data"
    }
   ],
   "source": [
    "import cv2\n",
    "\n",
    "def make_cv2_compatible(img, cmap='gray'):\n",
    "    plt.imsave(\"tmp.jpg\", img, cmap=cmap )\n",
    "    im = cv2.imread('tmp.jpg')\n",
    "    return im\n",
    "\n",
    "def min_max(x):\n",
    "    return np.min(x), np.max(x)\n",
    "\n",
    "\n",
    "def meth1(pat):\n",
    "    xs, ys = np.where(pat==1)\n",
    "    min_x, max_x = min_max(xs)\n",
    "    min_y, max_y = min_max(ys)\n",
    "    # points = [[xs[i], ys[i]] for i in [min_x, max_x, min_y, max_y]]\n",
    "    points = np.array([[min_y,min_x], [max_y,max_x]])\n",
    "    return  cv2.boundingRect(points)\n",
    " \n",
    "def get_bb(pat):\n",
    "    im = make_cv2_compatible(pat)\n",
    "    ctrs= cv2.findContours( cv2.cvtColor(im, cv2.COLOR_BGR2GRAY),cv2.RETR_EXTERNAL,cv2.CHAIN_APPROX_SIMPLE )[1]\n",
    "    return cv2.boundingRect(ctrs[0])\n",
    "    \n",
    "pat = data['epi_LV'][:,:,200]\n",
    "\n",
    "\n",
    "\n",
    "\n",
    "xs, ys = np.where(pat==1)\n",
    "\n",
    "min_x, max_x = min_max(xs)\n",
    "min_y, max_y = min_max(ys)\n",
    "# points = [[xs[i], ys[i]] for i in [min_x, max_x, min_y, max_y]]\n",
    "points = np.array([[min_y,min_x], [max_y,max_x]])\n",
    "# seg_endo[:,:,0][22,39]\n",
    "pat = make_cv2_compatible(pat)\n",
    "print(pat.shape)\n",
    "ctrs= cv2.findContours( cv2.cvtColor(pat, cv2.COLOR_BGR2GRAY),cv2.RETR_EXTERNAL,cv2.CHAIN_APPROX_SIMPLE )[1]\n",
    "print(len(ctrs))\n",
    "(x, y, w, h) = cv2.boundingRect(points)\n",
    "print((x, y, w, h))\n",
    "cv2.rectangle(both,(x, y), (x + w, y + h), (0, 0, 255), 1)\n",
    "plt.imshow(both)"
   ]
  },
  {
   "cell_type": "code",
   "execution_count": 158,
   "metadata": {},
   "outputs": [
    {
     "name": "stdout",
     "output_type": "stream",
     "text": [
      "(80, 80, 2900) 2900\n"
     ]
    }
   ],
   "source": [
    "n = data[\"images_LV\"].shape[-1]\n",
    "print(data['endo_LV'].shape,n)\n",
    "endo_bb = [meth1(data['endo_LV'][:,:,i]) for i in range(n)]\n",
    "epi_bb = [meth1(data['epi_LV'][:,:,i]) for i in range(n)]"
   ]
  },
  {
   "cell_type": "code",
   "execution_count": null,
   "metadata": {
    "collapsed": true
   },
   "outputs": [],
   "source": []
  }
 ],
 "metadata": {
  "anaconda-cloud": {},
  "kernelspec": {
   "display_name": "Python 3",
   "language": "python",
   "name": "python3"
  },
  "language_info": {
   "codemirror_mode": {
    "name": "ipython",
    "version": 3
   },
   "file_extension": ".py",
   "mimetype": "text/x-python",
   "name": "python",
   "nbconvert_exporter": "python",
   "pygments_lexer": "ipython3",
   "version": "3.6.2"
  }
 },
 "nbformat": 4,
 "nbformat_minor": 2
}
