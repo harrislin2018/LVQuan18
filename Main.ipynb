{
 "cells": [
  {
   "cell_type": "markdown",
   "metadata": {},
   "source": [
    "# Left Ventricle Full Quantification (LVQuan18) Challenge MICCAI 2018"
   ]
  },
  {
   "cell_type": "markdown",
   "metadata": {},
   "source": [
    "\n",
    "Accurate cardiac left ventricle (LV) quantification is among the most clinically important and most frequently demanded tasks for identification and diagnosis of cardiac diseases and is of great interest in the research community of medical image analysis.\n",
    "To explain what the challenge is about in the context of machine learning, I use the approach explained here:\n",
    "https://machinelearningmastery.com/how-to-define-your-machine-learning-problem/.\n",
    "\n",
    "It involves answering three questions:\n",
    "\n",
    "### Problem description\n",
    "\n",
    "In one sentence, we want a system that will find some information about the Left Ventricle (LV) out of cardiac images\n",
    "to diagnose some heart diseases.\n",
    "\n",
    "Tom Mitchell’s definition of a machine learning problem requires the definition of Tasks,\n",
    "Experience and Performance. These terms are defined for this problem as follows:\n",
    "\n",
    "* Tasks: Compute LV indices of each slice of patient cardiac SAX MR images. These indices are:\n",
    "\n",
    "    1. Areas of LV cavity and myocardium : $A_{1}$ and $A_{2}$ (see Fig.1(a))\n",
    "    2. Dimensions of LV cavity: $D_{1}, D_{2}$ and $D_{3}$ (see Fig.1(b))\n",
    "    3. Reginal Wall Thickness of myocardium: $RWT_{1}, ..., RWT_{6}$ (see Fig.1(c))\n",
    "    4. Cardiac phase (when images are acquired): diastole (0) or systole(1) (see Fig.1(d))\n",
    "   \n",
    "   <figure>\n",
    "  <img src=\"data/lvquan.jpg\" width=\"600\">\n",
    "  <figcaption> <center> Figure 1. LV indices to find. Orange and green areas are respectively LV cavity and myocardium.\n",
    "  </center> </figcaption>\n",
    "</figure>\n",
    "   \n",
    "    \n",
    "* Experiences: A set of 145 anonymized patient cardiac SAX MR images with all 4 indices for each slice.\n",
    "\n",
    "\n",
    "* Performance: Mean Absolute Error (MAE) to assess the performance of the method for estimation of indices 1,2 and 3. For the last indice, the Error Rate of the misclassified cardiac phase is used. Their formulae are:\n",
    "\n",
    "\n",
    "$ MAE_{indice} = \\frac{\\sum_{i=1}^{N} \\lvert Pred^{indice}_{i}  -  GT^{indice}_{i} \\rvert }{N} $\n",
    "\n",
    "$ER_{phase} = \\frac{\\sum_{i=1}^{N} Cardinal(Pred^{phase}_{i} \\neq GT^{phase}_{i}) }{N} $\n",
    "\n",
    "### The dataset provided\n",
    "\n",
    "A training dataset with processed SAX MR sequences of 145 subjects from clinical environment is used for model learning and validation.\n",
    "\n",
    "For each subject, 20 frames are included for the whole cardiac cycle. All ground truth values of the above-mentioned LV indices are provided for every single frame. More details about the training dataset can be found in the document of the DIG-Cardiac dataset. \n",
    "\n",
    "\n",
    "A complete information of the challenge can be found at: https://lvquan18.github.io/\n",
    "\n",
    "References: \n",
    "\n",
    "[1]: Figure 1 from https://lvquan18.github.io/2018/03/12/objective.html"
   ]
  },
  {
   "cell_type": "code",
   "execution_count": 1,
   "metadata": {},
   "outputs": [],
   "source": [
    "import numpy as np\n",
    "from matplotlib import pyplot as plt\n",
    "from fastai.conv_learner import *\n",
    "from fastai.dataset import *\n",
    "\n",
    "from pathlib import Path\n",
    "import json\n",
    "from PIL import ImageDraw, ImageFont\n",
    "from matplotlib import patches, patheffects\n",
    "%matplotlib inline\n",
    "%reload_ext autoreload\n",
    "%autoreload 2\n",
    "\n",
    "PATH ='data/'"
   ]
  },
  {
   "cell_type": "markdown",
   "metadata": {},
   "source": [
    "## Dataset exploration\n",
    "\n",
    "The provided dataset is a matlab file (.mat). \n",
    "\n",
    "Thus we're going to use scipy.io which can open this kind of file in python."
   ]
  },
  {
   "cell_type": "code",
   "execution_count": 2,
   "metadata": {},
   "outputs": [
    {
     "data": {
      "text/plain": [
       "dict_keys(['__header__', '__version__', '__globals__', 'areas', 'dims', 'endo_LV', 'epi_LV', 'images_LV', 'lv_phase', 'pix_spa', 'ratio_resize_inverse', 'rwt'])"
      ]
     },
     "execution_count": 2,
     "metadata": {},
     "output_type": "execute_result"
    }
   ],
   "source": [
    "import scipy.io as sio\n",
    "\n",
    "data = sio.loadmat(PATH+'cardiac-dig.mat')\n",
    "data.keys()\n"
   ]
  },
  {
   "cell_type": "code",
   "execution_count": 4,
   "metadata": {},
   "outputs": [
    {
     "data": {
      "text/plain": [
       "'(80, 80, 2900), 2900 / 20 frames =  145.0 patients'"
      ]
     },
     "execution_count": 4,
     "metadata": {},
     "output_type": "execute_result"
    }
   ],
   "source": [
    "f'{data[\"images_LV\"].shape}, 2900 / 20 frames =  {2900/20} patients'"
   ]
  },
  {
   "cell_type": "code",
   "execution_count": 5,
   "metadata": {},
   "outputs": [
    {
     "name": "stdout",
     "output_type": "stream",
     "text": [
      "Number of sequences in diastolic phase :  84\n",
      "Number of sequences in systolic phase  :  61\n",
      "Total                                  : 145\n"
     ]
    }
   ],
   "source": [
    "n_diastolic = np.sum(data[\"lv_phase\"] == 0) // 20\n",
    "n_systolic = np.sum(data[\"lv_phase\"] == 1) // 20\n",
    "print(f'Number of sequences in diastolic phase :  {n_diastolic}')\n",
    "print(f'Number of sequences in systolic phase  :  {n_systolic}')\n",
    "print(f'Total                                  : {n_diastolic + n_systolic}')\n"
   ]
  },
  {
   "cell_type": "markdown",
   "metadata": {},
   "source": [
    "### An analysis of the relation between LV cavity area and the phase"
   ]
  },
  {
   "cell_type": "code",
   "execution_count": 6,
   "metadata": {
    "scrolled": true
   },
   "outputs": [
    {
     "name": "stdout",
     "output_type": "stream",
     "text": [
      "[0 1 1 1 1 1 1 1 0 0 0 0 0 0 0 0 0 0 0 0]\n",
      "[0 1 1 1 1 1 1 1 1 0 0 0 0 0 0 0 0 0 0 0]\n",
      "[0 0 1 1 1 1 1 0 0 0 0 0 0 0 0 0 0 0 0 0]\n",
      "[1 1 1 1 1 1 1 0 0 0 0 0 0 0 0 0 0 0 0 1]\n",
      "[1 1 1 1 1 1 1 1 0 0 0 0 0 0 0 0 0 0 0 0]\n"
     ]
    },
    {
     "data": {
      "text/plain": [
       "Text(0,0.5,'Area of LV cavity')"
      ]
     },
     "execution_count": 6,
     "metadata": {},
     "output_type": "execute_result"
    },
    {
     "data": {
      "image/png": "[encoded data removed]",
      "text/plain": [
       "<matplotlib.figure.Figure at 0x7f838355aef0>"
      ]
     },
     "metadata": {},
     "output_type": "display_data"
    }
   ],
   "source": [
    "S = 20\n",
    "k = 5\n",
    "A = 0\n",
    "for i in range(k):\n",
    "    print(data['lv_phase'][0,i*S:(i+1)*S])\n",
    "    \n",
    "plt.plot(data['areas'][A,:S], 'b', range(S, 2*S), data['areas'][A,S:S+S], 'r',\n",
    "        range(2*S, 3*S), data['areas'][A,2*S:3*S], 'g', \n",
    "        range(3*S, 4*S), data['areas'][A,3*S:4*S], 'b',\n",
    "        range(4*S, 5*S), data['areas'][A,4*S:5*S], 'r')\n",
    "plt.xlabel('slice number')\n",
    "plt.ylabel('Area of LV cavity')"
   ]
  },
  {
   "cell_type": "markdown",
   "metadata": {},
   "source": [
    "**Remark:**\n",
    "\n",
    "It appears from the plot above that when the LV cavity area decreases, the phase is 1: Systole.\n",
    "\n",
    "And, it equals 0 (diastole) when LV cavity increases. So one way to find the phase is to track\n",
    "the LV cavity area"
   ]
  },
  {
   "cell_type": "code",
   "execution_count": 7,
   "metadata": {
    "collapsed": true
   },
   "outputs": [],
   "source": [
    "patient = data['images_LV'][:,:,:20]\n",
    "seg_endo = data['endo_LV'][:,:,:20]\n",
    "seg_epi = data['epi_LV'][:,:,:20]\n",
    "\n",
    "def get_sample(seq, size=3):\n",
    "    return np.hstack([seq[:,:,i] for i in range(size)])"
   ]
  },
  {
   "cell_type": "code",
   "execution_count": 8,
   "metadata": {
    "scrolled": true
   },
   "outputs": [
    {
     "data": {
      "image/png": "[encoded data removed]",
      "text/plain": [
       "<matplotlib.figure.Figure at 0x7f838355a780>"
      ]
     },
     "metadata": {},
     "output_type": "display_data"
    }
   ],
   "source": [
    "n = 3\n",
    "slice_sample = get_sample(patient, n)\n",
    "seg_endo_sample = get_sample(seg_endo, n)\n",
    "seg_epi_sample = get_sample(seg_epi, n)\n",
    "samples = np.vstack((slice_sample, seg_endo_sample, seg_epi_sample))\n",
    "plt.imshow(samples, cmap='gray')\n",
    "plt.title(f'{n} slices')\n",
    "plt.axis(\"off\")\n",
    "plt.show()\n"
   ]
  },
  {
   "cell_type": "code",
   "execution_count": 9,
   "metadata": {},
   "outputs": [
    {
     "name": "stdout",
     "output_type": "stream",
     "text": [
      "dims attribute (3, 2900) [ 0.40795  0.4411   0.40617]\n",
      "areas attribute (2, 2900) [ 0.13742  0.09059]\n",
      "rwt attribute (6, 2900) [ 0.06005  0.04753  0.05253  0.05125  0.04902  0.06165]\n"
     ]
    }
   ],
   "source": [
    "print ('dims attribute', data['dims'].shape, data['dims'][:,0])\n",
    "print ('areas attribute', data['areas'].shape, data['areas'][:,0])\n",
    "print ('rwt attribute', data['rwt'].shape, data['rwt'][:,0])"
   ]
  },
  {
   "cell_type": "markdown",
   "metadata": {},
   "source": [
    "# Our approach\n",
    "\n",
    "We're going to directly predict LV indices from images without segmentation.\n",
    "\n",
    "For that we use a classical model (e.g resnet50) for a regression task where the output\n",
    "vector will contain all these values:\n",
    "1. Areas: 2 values\n",
    "2. Dimensions: 3 values\n",
    "3. Reginal Wall Thickness: 6 values\n",
    "\n",
    "Thus, an output vector of 11 values.\n",
    "\n",
    "For the cardiac phase, we plan to use direct algorithm, no machine learning,\n",
    "that will track LV area (A1) across slices and use the remark done above\n",
    "to find the cardiac phase.\n"
   ]
  },
  {
   "cell_type": "code",
   "execution_count": 3,
   "metadata": {},
   "outputs": [],
   "source": [
    "from fastai.conv_learner import *\n",
    "from fastai.dataset import *\n",
    "\n",
    "from pathlib import Path\n",
    "import json\n",
    "from PIL import ImageDraw, ImageFont\n",
    "from matplotlib import patches, patheffects\n",
    "# torch.cuda.set_device(3)"
   ]
  },
  {
   "cell_type": "markdown",
   "metadata": {},
   "source": [
    "### Format input/output for CNN\n",
    "\n",
    "Make one-channel input to 3 channel.\n",
    "Arrange input/output axis for fastai."
   ]
  },
  {
   "cell_type": "code",
   "execution_count": 4,
   "metadata": {},
   "outputs": [
    {
     "name": "stdout",
     "output_type": "stream",
     "text": [
      "(2900, 11)\n",
      "(2900, 80, 80, 3)\n",
      "(2900,)\n"
     ]
    },
    {
     "data": {
      "text/plain": [
       "<matplotlib.image.AxesImage at 0x7f15d34240b8>"
      ]
     },
     "execution_count": 4,
     "metadata": {},
     "output_type": "execute_result"
    },
    {
     "data": {
      "image/png": "[encoded data removed]",
      "text/plain": [
       "<matplotlib.figure.Figure at 0x7f15ff3584e0>"
      ]
     },
     "metadata": {},
     "output_type": "display_data"
    }
   ],
   "source": [
    "tmp_x = np.moveaxis(data['images_LV'], -1, 0)\n",
    "x = np.empty((2900, 80, 80, 3))\n",
    "for i in range(x.shape[0]):\n",
    "    x[i] = np.stack((tmp_x[i],)*3, -1)\n",
    "\n",
    "y = np.concatenate((data['areas'],data['dims'], data['rwt'])).T\n",
    "lv_phase = np.moveaxis(data['lv_phase'], -1, 0).flatten()\n",
    "print(y.shape)\n",
    "print(x.shape)\n",
    "print(lv_phase.shape)\n",
    "plt.imshow(x[0])"
   ]
  },
  {
   "cell_type": "code",
   "execution_count": 5,
   "metadata": {},
   "outputs": [],
   "source": [
    "def patientToImgIdx(patient_idxs):\n",
    "    image_idxs = []\n",
    "    for i in patient_idxs:\n",
    "        image_idxs.append(np.arange(i*20, (i+1)*20))\n",
    "    return np.concatenate(image_idxs)\n",
    "\n",
    "def n_folds_split(samples, folds=3, seed=42):\n",
    "  # reproducible results with a fixed seed\n",
    "    rng = np.random.RandomState(seed)\n",
    "    indices = samples if type(samples)is np.ndarray else np.arange(samples)\n",
    "    rng.shuffle(indices)\n",
    "    n_samples = indices.shape[0]\n",
    "    spf, r = np.divmod(n_samples, folds)\n",
    "    rr = [0]\n",
    "    if r!= 0:\n",
    "        rr += [i*(spf+1)for i in range(1, r+1)]\n",
    "        rr += [i for i in range(rr[-1]+spf, n_samples+1, spf)]\n",
    "    else: \n",
    "        rr += [i*spf for i in range(1, folds+1)]\n",
    "    \n",
    "    splits = [indices[rr[i]:rr[i+1]] for i in range(folds)]\n",
    "    cv_splits = [(splits[i], np.concatenate([s for s in splits if s is not splits[i]])) for i in range(folds)]\n",
    "    return cv_splits\n"
   ]
  },
  {
   "cell_type": "markdown",
   "metadata": {},
   "source": [
    " We use 110 cardiac MR for training and 35 for testing which is about 24.13 % of the dataset.\n",
    " \n",
    " The test set has been chosen randomly with 42 seed for reproducibility."
   ]
  },
  {
   "cell_type": "code",
   "execution_count": 6,
   "metadata": {},
   "outputs": [],
   "source": [
    "rng = np.random.RandomState(42)\n",
    "idxs = np.arange(145)\n",
    "rng.shuffle(idxs)\n",
    "trn_idxs, test_idx = idxs[:110], idxs[110:]\n",
    "folds = n_folds_split(trn_idxs, 5)"
   ]
  },
  {
   "cell_type": "markdown",
   "metadata": {
    "heading_collapsed": true
   },
   "source": [
    "## Phase Identification"
   ]
  },
  {
   "cell_type": "markdown",
   "metadata": {
    "heading_collapsed": true,
    "hidden": true
   },
   "source": [
    "### A deterministic function"
   ]
  },
  {
   "cell_type": "code",
   "execution_count": 7,
   "metadata": {
    "hidden": true
   },
   "outputs": [],
   "source": [
    "def comb_feats(lv_areas):\n",
    "    res = np.copy(lv_areas)\n",
    "    res[1:] = (res[1:] - lv_areas[:19])\n",
    "    res[0] = res[1]\n",
    "    return res\n",
    "\n",
    "def phase_finder(lv_areas):\n",
    "    res = comb_feats(lv_areas)\n",
    "    res = (res<0.0).astype('float')\n",
    "#     print(res)\n",
    "    return res"
   ]
  },
  {
   "cell_type": "code",
   "execution_count": 8,
   "metadata": {
    "hidden": true
   },
   "outputs": [
    {
     "data": {
      "text/plain": [
       "0.80000000000000004"
      ]
     },
     "execution_count": 8,
     "metadata": {},
     "output_type": "execute_result"
    }
   ],
   "source": [
    "def acc(pred, gt):\n",
    "    res = (pred == gt).astype('int').mean()\n",
    "    return res\n",
    "\n",
    "areas = y[:, 0]\n",
    "i = 0\n",
    "areas.shape\n",
    "acc(phase_finder(areas[i*20:(i+1)*20]), lv_phase[i*20:(i+1)*20])"
   ]
  },
  {
   "cell_type": "code",
   "execution_count": 10,
   "metadata": {
    "hidden": true
   },
   "outputs": [
    {
     "data": {
      "text/plain": [
       "[1, 1, 1]"
      ]
     },
     "execution_count": 10,
     "metadata": {},
     "output_type": "execute_result"
    }
   ],
   "source": [
    "3*[1]"
   ]
  },
  {
   "cell_type": "code",
   "execution_count": 9,
   "metadata": {
    "hidden": true
   },
   "outputs": [
    {
     "data": {
      "text/plain": [
       "[<matplotlib.lines.Line2D at 0x7fb7fa9b2518>,\n",
       " <matplotlib.lines.Line2D at 0x7fb7fa9b2a20>]"
      ]
     },
     "execution_count": 9,
     "metadata": {},
     "output_type": "execute_result"
    },
    {
     "data": {
      "image/png": "[encoded data removed]",
      "text/plain": [
       "<matplotlib.figure.Figure at 0x7fb826957080>"
      ]
     },
     "metadata": {},
     "output_type": "display_data"
    }
   ],
   "source": [
    "res_tot = []\n",
    "for i in range(145):\n",
    "    idxs = np.arange(i*20,(i+1)*20)\n",
    "    res_tot.append(acc(phase_finder(areas[idxs]), lv_phase[idxs]))\n",
    "m= np.mean(res_tot)\n",
    "plt.plot(res_tot, 'b', 145*[m], 'r')\n"
   ]
  },
  {
   "cell_type": "markdown",
   "metadata": {
    "heading_collapsed": true,
    "hidden": true
   },
   "source": [
    "### With a Neural Network"
   ]
  },
  {
   "cell_type": "code",
   "execution_count": 10,
   "metadata": {
    "hidden": true
   },
   "outputs": [],
   "source": [
    "from fastai.structured import *\n",
    "from fastai.column_data import *\n",
    "def PhaseNN():\n",
    "    layers = nn.Sequential(\n",
    "    nn.Linear(40, 50),\n",
    "    nn.ReLU(),\n",
    "    nn.BatchNorm1d(50),\n",
    "    nn.Dropout(0.4),\n",
    "    nn.Linear(50,40),\n",
    "    nn.ReLU(),\n",
    "    nn.BatchNorm1d(40),\n",
    "    nn.Dropout(0.25),\n",
    "    nn.Linear(40, 20),\n",
    "    nn.LogSigmoid())\n",
    "    return layers\n",
    "\n",
    "def format_phase_data(phases):\n",
    "    formatted = phases.reshape((-1, 20))\n",
    "    new_feats = np.array(list(map(lambda x: comb_feats(x), formatted)))\n",
    "    return np.concatenate((formatted, new_feats), axis=1)\n",
    "    \n",
    "def get_phase_data(arch, darray, split):\n",
    "    formatted = format_phase_data(darray)\n",
    "    tfms = tfms_from_model(arch, sz=1, crop_type=CropType.NO)\n",
    "    trn, val, test = formatted\n",
    "    data = ImageClassifierData.from_arrays(PATH, trn, val, bs, tfms, test=test,)\n",
    "    return data\n",
    "    pass\n",
    "    "
   ]
  },
  {
   "cell_type": "code",
   "execution_count": 219,
   "metadata": {
    "hidden": true
   },
   "outputs": [
    {
     "data": {
      "text/plain": [
       "(array([[ 0.86985,  0.54967,  0.24442,  0.86129,  0.08788,  0.74451,  0.12061,  0.96422,  0.66253,  0.27793,\n",
       "          0.06622,  0.65414,  0.18527,  0.68771,  0.06087,  0.97582,  0.61977,  0.07367,  0.77418,  0.411  ,\n",
       "         -0.32019, -0.32019, -0.30525,  0.61687, -0.7734 ,  0.65663, -0.62391,  0.84362, -0.3017 , -0.3846 ,\n",
       "         -0.21171,  0.58791, -0.46887,  0.50244, -0.62684,  0.91495, -0.35605, -0.5461 ,  0.70051, -0.36318],\n",
       "        [ 0.78476,  0.85495,  0.49187,  0.28432,  0.62491,  0.32579,  0.11621,  0.57903,  0.19973,  0.96572,\n",
       "          0.20425,  0.58753,  0.38704,  0.30519,  0.23958,  0.79693,  0.48547,  0.33877,  0.79342,  0.15397,\n",
       "          0.07019,  0.07019, -0.36308, -0.20755,  0.34059, -0.29911, -0.20959,  0.46282, -0.3793 ,  0.76599,\n",
       "         -0.76147,  0.38328, -0.20049, -0.08185, -0.06561,  0.55735, -0.31146, -0.1467 ,  0.45465, -0.63945]]),\n",
       " (2, 40))"
      ]
     },
     "execution_count": 219,
     "metadata": {},
     "output_type": "execute_result"
    }
   ],
   "source": [
    "a = np.random.rand(2, 20)\n",
    "b = format_phase_data(a)\n",
    "b, b.shape\n",
    "# b = np.array(list(map(lambda x: comb_feats(x), a)))\n",
    "# np.concatenate((a, b), axis=1).shape"
   ]
  },
  {
   "cell_type": "markdown",
   "metadata": {},
   "source": [
    "## First fold of 5-CV folds"
   ]
  },
  {
   "cell_type": "code",
   "execution_count": 7,
   "metadata": {},
   "outputs": [
    {
     "name": "stdout",
     "output_type": "stream",
     "text": [
      "pval shape: (22,)\n",
      "trn: (88,)\n",
      "val shape: (440,)\n",
      "trn: (1760,)\n"
     ]
    }
   ],
   "source": [
    "# trn, val, test\n",
    "pval, ptrn = folds[0]\n",
    "print(f'pval shape: {pval.shape}\\ntrn: {ptrn.shape}')\n",
    "val = patientToImgIdx(pval)\n",
    "trn = patientToImgIdx(ptrn)\n",
    "print(f'val shape: {val.shape}\\ntrn: {trn.shape}')\n",
    "dtrn = (x[trn], y[trn])\n",
    "dval = (x[val], y[val])\n",
    "# dtest = (x[test], y[test])\n",
    "darray = (dtrn, dval, None)\n",
    "phase_val = lv_phase[val]"
   ]
  },
  {
   "cell_type": "code",
   "execution_count": 8,
   "metadata": {},
   "outputs": [
    {
     "data": {
      "text/plain": [
       "([<fastai.transforms.RandomRotate at 0x7f160075bef0>,\n",
       "  <fastai.transforms.RandomLighting at 0x7f160075bf60>,\n",
       "  <fastai.transforms.RandomDihedral at 0x7f160070b048>],\n",
       " [<fastai.transforms.RandomRotate at 0x7f160075bef0>,\n",
       "  <fastai.transforms.RandomLighting at 0x7f160075bf60>,\n",
       "  <fastai.transforms.RandomFlip at 0x7f160075bf98>])"
      ]
     },
     "execution_count": 8,
     "metadata": {},
     "output_type": "execute_result"
    }
   ],
   "source": [
    "transforms_top_down, transforms_side_on"
   ]
  },
  {
   "cell_type": "code",
   "execution_count": 9,
   "metadata": {},
   "outputs": [
    {
     "data": {
      "text/plain": [
       "True"
      ]
     },
     "execution_count": 9,
     "metadata": {},
     "output_type": "execute_result"
    }
   ],
   "source": [
    "custom_transform = transforms_basic + [RandomDihedral(), RandomFlip()]\n",
    "def get_data(darray, arch, bs, aug=custom_transform):\n",
    "    tfms = tfms_from_model(arch, sz=80, aug_tfms=aug, crop_type=CropType.NO)\n",
    "    trn, val, test = darray\n",
    "    data = ImageClassifierData.from_arrays(PATH, trn, val, bs, tfms, test=test, continuous=True)\n",
    "    return data\n",
    "\n",
    "arch = resnext50\n",
    "bs=20\n",
    "md = get_data(darray, arch, bs)\n",
    "md.is_reg()\n"
   ]
  },
  {
   "cell_type": "code",
   "execution_count": 10,
   "metadata": {},
   "outputs": [],
   "source": [
    "head_reg11 = nn.Sequential(\n",
    "    Flatten(),\n",
    "    nn.ReLU(),\n",
    "    nn.Dropout(0.5),\n",
    "    nn.Linear(18432, 1024),\n",
    "    nn.ReLU(),\n",
    "    nn.BatchNorm1d(1024),\n",
    "    nn.Dropout(0.4),\n",
    "    nn.Linear(1024,256),\n",
    "    nn.ReLU(),\n",
    "    nn.BatchNorm1d(256),\n",
    "    nn.Dropout(0.25),\n",
    "    nn.Linear(256, 11))\n",
    "# head_reg11 = nn.Sequential(Flatten())\n",
    "learner = ConvLearner.pretrained(arch, md, custom_head=head_reg11)\n",
    "learner.opt_fn = optim.Adam\n",
    "learner.crit = nn.L1Loss()"
   ]
  },
  {
   "cell_type": "code",
   "execution_count": 52,
   "metadata": {},
   "outputs": [
    {
     "data": {
      "text/plain": [
       "OrderedDict([('Conv2d-1',\n",
       "              OrderedDict([('input_shape', [-1, 3, 80, 80]),\n",
       "                           ('output_shape', [-1, 64, 40, 40]),\n",
       "                           ('trainable', False),\n",
       "                           ('nb_params', 9408)])),\n",
       "             ('BatchNorm2d-2',\n",
       "              OrderedDict([('input_shape', [-1, 64, 40, 40]),\n",
       "                           ('output_shape', [-1, 64, 40, 40]),\n",
       "                           ('trainable', False),\n",
       "                           ('nb_params', 128)])),\n",
       "             ('ReLU-3',\n",
       "              OrderedDict([('input_shape', [-1, 64, 40, 40]),\n",
       "                           ('output_shape', [-1, 64, 40, 40]),\n",
       "                           ('nb_params', 0)])),\n",
       "             ('MaxPool2d-4',\n",
       "              OrderedDict([('input_shape', [-1, 64, 40, 40]),\n",
       "                           ('output_shape', [-1, 64, 20, 20]),\n",
       "                           ('nb_params', 0)])),\n",
       "             ('Conv2d-5',\n",
       "              OrderedDict([('input_shape', [-1, 64, 20, 20]),\n",
       "                           ('output_shape', [-1, 128, 20, 20]),\n",
       "                           ('trainable', False),\n",
       "                           ('nb_params', 8192)])),\n",
       "             ('BatchNorm2d-6',\n",
       "              OrderedDict([('input_shape', [-1, 128, 20, 20]),\n",
       "                           ('output_shape', [-1, 128, 20, 20]),\n",
       "                           ('trainable', False),\n",
       "                           ('nb_params', 256)])),\n",
       "             ('ReLU-7',\n",
       "              OrderedDict([('input_shape', [-1, 128, 20, 20]),\n",
       "                           ('output_shape', [-1, 128, 20, 20]),\n",
       "                           ('nb_params', 0)])),\n",
       "             ('Conv2d-8',\n",
       "              OrderedDict([('input_shape', [-1, 128, 20, 20]),\n",
       "                           ('output_shape', [-1, 128, 20, 20]),\n",
       "                           ('trainable', False),\n",
       "                           ('nb_params', 4608)])),\n",
       "             ('BatchNorm2d-9',\n",
       "              OrderedDict([('input_shape', [-1, 128, 20, 20]),\n",
       "                           ('output_shape', [-1, 128, 20, 20]),\n",
       "                           ('trainable', False),\n",
       "                           ('nb_params', 256)])),\n",
       "             ('ReLU-10',\n",
       "              OrderedDict([('input_shape', [-1, 128, 20, 20]),\n",
       "                           ('output_shape', [-1, 128, 20, 20]),\n",
       "                           ('nb_params', 0)])),\n",
       "             ('Conv2d-11',\n",
       "              OrderedDict([('input_shape', [-1, 128, 20, 20]),\n",
       "                           ('output_shape', [-1, 256, 20, 20]),\n",
       "                           ('trainable', False),\n",
       "                           ('nb_params', 32768)])),\n",
       "             ('BatchNorm2d-12',\n",
       "              OrderedDict([('input_shape', [-1, 256, 20, 20]),\n",
       "                           ('output_shape', [-1, 256, 20, 20]),\n",
       "                           ('trainable', False),\n",
       "                           ('nb_params', 512)])),\n",
       "             ('Conv2d-13',\n",
       "              OrderedDict([('input_shape', [-1, 64, 20, 20]),\n",
       "                           ('output_shape', [-1, 256, 20, 20]),\n",
       "                           ('trainable', False),\n",
       "                           ('nb_params', 16384)])),\n",
       "             ('BatchNorm2d-14',\n",
       "              OrderedDict([('input_shape', [-1, 256, 20, 20]),\n",
       "                           ('output_shape', [-1, 256, 20, 20]),\n",
       "                           ('trainable', False),\n",
       "                           ('nb_params', 512)])),\n",
       "             ('ReLU-15',\n",
       "              OrderedDict([('input_shape', [-1, 256, 20, 20]),\n",
       "                           ('output_shape', [-1, 256, 20, 20]),\n",
       "                           ('nb_params', 0)])),\n",
       "             ('Conv2d-16',\n",
       "              OrderedDict([('input_shape', [-1, 256, 20, 20]),\n",
       "                           ('output_shape', [-1, 128, 20, 20]),\n",
       "                           ('trainable', False),\n",
       "                           ('nb_params', 32768)])),\n",
       "             ('BatchNorm2d-17',\n",
       "              OrderedDict([('input_shape', [-1, 128, 20, 20]),\n",
       "                           ('output_shape', [-1, 128, 20, 20]),\n",
       "                           ('trainable', False),\n",
       "                           ('nb_params', 256)])),\n",
       "             ('ReLU-18',\n",
       "              OrderedDict([('input_shape', [-1, 128, 20, 20]),\n",
       "                           ('output_shape', [-1, 128, 20, 20]),\n",
       "                           ('nb_params', 0)])),\n",
       "             ('Conv2d-19',\n",
       "              OrderedDict([('input_shape', [-1, 128, 20, 20]),\n",
       "                           ('output_shape', [-1, 128, 20, 20]),\n",
       "                           ('trainable', False),\n",
       "                           ('nb_params', 4608)])),\n",
       "             ('BatchNorm2d-20',\n",
       "              OrderedDict([('input_shape', [-1, 128, 20, 20]),\n",
       "                           ('output_shape', [-1, 128, 20, 20]),\n",
       "                           ('trainable', False),\n",
       "                           ('nb_params', 256)])),\n",
       "             ('ReLU-21',\n",
       "              OrderedDict([('input_shape', [-1, 128, 20, 20]),\n",
       "                           ('output_shape', [-1, 128, 20, 20]),\n",
       "                           ('nb_params', 0)])),\n",
       "             ('Conv2d-22',\n",
       "              OrderedDict([('input_shape', [-1, 128, 20, 20]),\n",
       "                           ('output_shape', [-1, 256, 20, 20]),\n",
       "                           ('trainable', False),\n",
       "                           ('nb_params', 32768)])),\n",
       "             ('BatchNorm2d-23',\n",
       "              OrderedDict([('input_shape', [-1, 256, 20, 20]),\n",
       "                           ('output_shape', [-1, 256, 20, 20]),\n",
       "                           ('trainable', False),\n",
       "                           ('nb_params', 512)])),\n",
       "             ('ReLU-24',\n",
       "              OrderedDict([('input_shape', [-1, 256, 20, 20]),\n",
       "                           ('output_shape', [-1, 256, 20, 20]),\n",
       "                           ('nb_params', 0)])),\n",
       "             ('Conv2d-25',\n",
       "              OrderedDict([('input_shape', [-1, 256, 20, 20]),\n",
       "                           ('output_shape', [-1, 128, 20, 20]),\n",
       "                           ('trainable', False),\n",
       "                           ('nb_params', 32768)])),\n",
       "             ('BatchNorm2d-26',\n",
       "              OrderedDict([('input_shape', [-1, 128, 20, 20]),\n",
       "                           ('output_shape', [-1, 128, 20, 20]),\n",
       "                           ('trainable', False),\n",
       "                           ('nb_params', 256)])),\n",
       "             ('ReLU-27',\n",
       "              OrderedDict([('input_shape', [-1, 128, 20, 20]),\n",
       "                           ('output_shape', [-1, 128, 20, 20]),\n",
       "                           ('nb_params', 0)])),\n",
       "             ('Conv2d-28',\n",
       "              OrderedDict([('input_shape', [-1, 128, 20, 20]),\n",
       "                           ('output_shape', [-1, 128, 20, 20]),\n",
       "                           ('trainable', False),\n",
       "                           ('nb_params', 4608)])),\n",
       "             ('BatchNorm2d-29',\n",
       "              OrderedDict([('input_shape', [-1, 128, 20, 20]),\n",
       "                           ('output_shape', [-1, 128, 20, 20]),\n",
       "                           ('trainable', False),\n",
       "                           ('nb_params', 256)])),\n",
       "             ('ReLU-30',\n",
       "              OrderedDict([('input_shape', [-1, 128, 20, 20]),\n",
       "                           ('output_shape', [-1, 128, 20, 20]),\n",
       "                           ('nb_params', 0)])),\n",
       "             ('Conv2d-31',\n",
       "              OrderedDict([('input_shape', [-1, 128, 20, 20]),\n",
       "                           ('output_shape', [-1, 256, 20, 20]),\n",
       "                           ('trainable', False),\n",
       "                           ('nb_params', 32768)])),\n",
       "             ('BatchNorm2d-32',\n",
       "              OrderedDict([('input_shape', [-1, 256, 20, 20]),\n",
       "                           ('output_shape', [-1, 256, 20, 20]),\n",
       "                           ('trainable', False),\n",
       "                           ('nb_params', 512)])),\n",
       "             ('ReLU-33',\n",
       "              OrderedDict([('input_shape', [-1, 256, 20, 20]),\n",
       "                           ('output_shape', [-1, 256, 20, 20]),\n",
       "                           ('nb_params', 0)])),\n",
       "             ('Conv2d-34',\n",
       "              OrderedDict([('input_shape', [-1, 256, 20, 20]),\n",
       "                           ('output_shape', [-1, 256, 20, 20]),\n",
       "                           ('trainable', False),\n",
       "                           ('nb_params', 65536)])),\n",
       "             ('BatchNorm2d-35',\n",
       "              OrderedDict([('input_shape', [-1, 256, 20, 20]),\n",
       "                           ('output_shape', [-1, 256, 20, 20]),\n",
       "                           ('trainable', False),\n",
       "                           ('nb_params', 512)])),\n",
       "             ('ReLU-36',\n",
       "              OrderedDict([('input_shape', [-1, 256, 20, 20]),\n",
       "                           ('output_shape', [-1, 256, 20, 20]),\n",
       "                           ('nb_params', 0)])),\n",
       "             ('Conv2d-37',\n",
       "              OrderedDict([('input_shape', [-1, 256, 20, 20]),\n",
       "                           ('output_shape', [-1, 256, 10, 10]),\n",
       "                           ('trainable', False),\n",
       "                           ('nb_params', 18432)])),\n",
       "             ('BatchNorm2d-38',\n",
       "              OrderedDict([('input_shape', [-1, 256, 10, 10]),\n",
       "                           ('output_shape', [-1, 256, 10, 10]),\n",
       "                           ('trainable', False),\n",
       "                           ('nb_params', 512)])),\n",
       "             ('ReLU-39',\n",
       "              OrderedDict([('input_shape', [-1, 256, 10, 10]),\n",
       "                           ('output_shape', [-1, 256, 10, 10]),\n",
       "                           ('nb_params', 0)])),\n",
       "             ('Conv2d-40',\n",
       "              OrderedDict([('input_shape', [-1, 256, 10, 10]),\n",
       "                           ('output_shape', [-1, 512, 10, 10]),\n",
       "                           ('trainable', False),\n",
       "                           ('nb_params', 131072)])),\n",
       "             ('BatchNorm2d-41',\n",
       "              OrderedDict([('input_shape', [-1, 512, 10, 10]),\n",
       "                           ('output_shape', [-1, 512, 10, 10]),\n",
       "                           ('trainable', False),\n",
       "                           ('nb_params', 1024)])),\n",
       "             ('Conv2d-42',\n",
       "              OrderedDict([('input_shape', [-1, 256, 20, 20]),\n",
       "                           ('output_shape', [-1, 512, 10, 10]),\n",
       "                           ('trainable', False),\n",
       "                           ('nb_params', 131072)])),\n",
       "             ('BatchNorm2d-43',\n",
       "              OrderedDict([('input_shape', [-1, 512, 10, 10]),\n",
       "                           ('output_shape', [-1, 512, 10, 10]),\n",
       "                           ('trainable', False),\n",
       "                           ('nb_params', 1024)])),\n",
       "             ('ReLU-44',\n",
       "              OrderedDict([('input_shape', [-1, 512, 10, 10]),\n",
       "                           ('output_shape', [-1, 512, 10, 10]),\n",
       "                           ('nb_params', 0)])),\n",
       "             ('Conv2d-45',\n",
       "              OrderedDict([('input_shape', [-1, 512, 10, 10]),\n",
       "                           ('output_shape', [-1, 256, 10, 10]),\n",
       "                           ('trainable', False),\n",
       "                           ('nb_params', 131072)])),\n",
       "             ('BatchNorm2d-46',\n",
       "              OrderedDict([('input_shape', [-1, 256, 10, 10]),\n",
       "                           ('output_shape', [-1, 256, 10, 10]),\n",
       "                           ('trainable', False),\n",
       "                           ('nb_params', 512)])),\n",
       "             ('ReLU-47',\n",
       "              OrderedDict([('input_shape', [-1, 256, 10, 10]),\n",
       "                           ('output_shape', [-1, 256, 10, 10]),\n",
       "                           ('nb_params', 0)])),\n",
       "             ('Conv2d-48',\n",
       "              OrderedDict([('input_shape', [-1, 256, 10, 10]),\n",
       "                           ('output_shape', [-1, 256, 10, 10]),\n",
       "                           ('trainable', False),\n",
       "                           ('nb_params', 18432)])),\n",
       "             ('BatchNorm2d-49',\n",
       "              OrderedDict([('input_shape', [-1, 256, 10, 10]),\n",
       "                           ('output_shape', [-1, 256, 10, 10]),\n",
       "                           ('trainable', False),\n",
       "                           ('nb_params', 512)])),\n",
       "             ('ReLU-50',\n",
       "              OrderedDict([('input_shape', [-1, 256, 10, 10]),\n",
       "                           ('output_shape', [-1, 256, 10, 10]),\n",
       "                           ('nb_params', 0)])),\n",
       "             ('Conv2d-51',\n",
       "              OrderedDict([('input_shape', [-1, 256, 10, 10]),\n",
       "                           ('output_shape', [-1, 512, 10, 10]),\n",
       "                           ('trainable', False),\n",
       "                           ('nb_params', 131072)])),\n",
       "             ('BatchNorm2d-52',\n",
       "              OrderedDict([('input_shape', [-1, 512, 10, 10]),\n",
       "                           ('output_shape', [-1, 512, 10, 10]),\n",
       "                           ('trainable', False),\n",
       "                           ('nb_params', 1024)])),\n",
       "             ('ReLU-53',\n",
       "              OrderedDict([('input_shape', [-1, 512, 10, 10]),\n",
       "                           ('output_shape', [-1, 512, 10, 10]),\n",
       "                           ('nb_params', 0)])),\n",
       "             ('Conv2d-54',\n",
       "              OrderedDict([('input_shape', [-1, 512, 10, 10]),\n",
       "                           ('output_shape', [-1, 256, 10, 10]),\n",
       "                           ('trainable', False),\n",
       "                           ('nb_params', 131072)])),\n",
       "             ('BatchNorm2d-55',\n",
       "              OrderedDict([('input_shape', [-1, 256, 10, 10]),\n",
       "                           ('output_shape', [-1, 256, 10, 10]),\n",
       "                           ('trainable', False),\n",
       "                           ('nb_params', 512)])),\n",
       "             ('ReLU-56',\n",
       "              OrderedDict([('input_shape', [-1, 256, 10, 10]),\n",
       "                           ('output_shape', [-1, 256, 10, 10]),\n",
       "                           ('nb_params', 0)])),\n",
       "             ('Conv2d-57',\n",
       "              OrderedDict([('input_shape', [-1, 256, 10, 10]),\n",
       "                           ('output_shape', [-1, 256, 10, 10]),\n",
       "                           ('trainable', False),\n",
       "                           ('nb_params', 18432)])),\n",
       "             ('BatchNorm2d-58',\n",
       "              OrderedDict([('input_shape', [-1, 256, 10, 10]),\n",
       "                           ('output_shape', [-1, 256, 10, 10]),\n",
       "                           ('trainable', False),\n",
       "                           ('nb_params', 512)])),\n",
       "             ('ReLU-59',\n",
       "              OrderedDict([('input_shape', [-1, 256, 10, 10]),\n",
       "                           ('output_shape', [-1, 256, 10, 10]),\n",
       "                           ('nb_params', 0)])),\n",
       "             ('Conv2d-60',\n",
       "              OrderedDict([('input_shape', [-1, 256, 10, 10]),\n",
       "                           ('output_shape', [-1, 512, 10, 10]),\n",
       "                           ('trainable', False),\n",
       "                           ('nb_params', 131072)])),\n",
       "             ('BatchNorm2d-61',\n",
       "              OrderedDict([('input_shape', [-1, 512, 10, 10]),\n",
       "                           ('output_shape', [-1, 512, 10, 10]),\n",
       "                           ('trainable', False),\n",
       "                           ('nb_params', 1024)])),\n",
       "             ('ReLU-62',\n",
       "              OrderedDict([('input_shape', [-1, 512, 10, 10]),\n",
       "                           ('output_shape', [-1, 512, 10, 10]),\n",
       "                           ('nb_params', 0)])),\n",
       "             ('Conv2d-63',\n",
       "              OrderedDict([('input_shape', [-1, 512, 10, 10]),\n",
       "                           ('output_shape', [-1, 256, 10, 10]),\n",
       "                           ('trainable', False),\n",
       "                           ('nb_params', 131072)])),\n",
       "             ('BatchNorm2d-64',\n",
       "              OrderedDict([('input_shape', [-1, 256, 10, 10]),\n",
       "                           ('output_shape', [-1, 256, 10, 10]),\n",
       "                           ('trainable', False),\n",
       "                           ('nb_params', 512)])),\n",
       "             ('ReLU-65',\n",
       "              OrderedDict([('input_shape', [-1, 256, 10, 10]),\n",
       "                           ('output_shape', [-1, 256, 10, 10]),\n",
       "                           ('nb_params', 0)])),\n",
       "             ('Conv2d-66',\n",
       "              OrderedDict([('input_shape', [-1, 256, 10, 10]),\n",
       "                           ('output_shape', [-1, 256, 10, 10]),\n",
       "                           ('trainable', False),\n",
       "                           ('nb_params', 18432)])),\n",
       "             ('BatchNorm2d-67',\n",
       "              OrderedDict([('input_shape', [-1, 256, 10, 10]),\n",
       "                           ('output_shape', [-1, 256, 10, 10]),\n",
       "                           ('trainable', False),\n",
       "                           ('nb_params', 512)])),\n",
       "             ('ReLU-68',\n",
       "              OrderedDict([('input_shape', [-1, 256, 10, 10]),\n",
       "                           ('output_shape', [-1, 256, 10, 10]),\n",
       "                           ('nb_params', 0)])),\n",
       "             ('Conv2d-69',\n",
       "              OrderedDict([('input_shape', [-1, 256, 10, 10]),\n",
       "                           ('output_shape', [-1, 512, 10, 10]),\n",
       "                           ('trainable', False),\n",
       "                           ('nb_params', 131072)])),\n",
       "             ('BatchNorm2d-70',\n",
       "              OrderedDict([('input_shape', [-1, 512, 10, 10]),\n",
       "                           ('output_shape', [-1, 512, 10, 10]),\n",
       "                           ('trainable', False),\n",
       "                           ('nb_params', 1024)])),\n",
       "             ('ReLU-71',\n",
       "              OrderedDict([('input_shape', [-1, 512, 10, 10]),\n",
       "                           ('output_shape', [-1, 512, 10, 10]),\n",
       "                           ('nb_params', 0)])),\n",
       "             ('Conv2d-72',\n",
       "              OrderedDict([('input_shape', [-1, 512, 10, 10]),\n",
       "                           ('output_shape', [-1, 512, 10, 10]),\n",
       "                           ('trainable', False),\n",
       "                           ('nb_params', 262144)])),\n",
       "             ('BatchNorm2d-73',\n",
       "              OrderedDict([('input_shape', [-1, 512, 10, 10]),\n",
       "                           ('output_shape', [-1, 512, 10, 10]),\n",
       "                           ('trainable', False),\n",
       "                           ('nb_params', 1024)])),\n",
       "             ('ReLU-74',\n",
       "              OrderedDict([('input_shape', [-1, 512, 10, 10]),\n",
       "                           ('output_shape', [-1, 512, 10, 10]),\n",
       "                           ('nb_params', 0)])),\n",
       "             ('Conv2d-75',\n",
       "              OrderedDict([('input_shape', [-1, 512, 10, 10]),\n",
       "                           ('output_shape', [-1, 512, 5, 5]),\n",
       "                           ('trainable', False),\n",
       "                           ('nb_params', 73728)])),\n",
       "             ('BatchNorm2d-76',\n",
       "              OrderedDict([('input_shape', [-1, 512, 5, 5]),\n",
       "                           ('output_shape', [-1, 512, 5, 5]),\n",
       "                           ('trainable', False),\n",
       "                           ('nb_params', 1024)])),\n",
       "             ('ReLU-77',\n",
       "              OrderedDict([('input_shape', [-1, 512, 5, 5]),\n",
       "                           ('output_shape', [-1, 512, 5, 5]),\n",
       "                           ('nb_params', 0)])),\n",
       "             ('Conv2d-78',\n",
       "              OrderedDict([('input_shape', [-1, 512, 5, 5]),\n",
       "                           ('output_shape', [-1, 1024, 5, 5]),\n",
       "                           ('trainable', False),\n",
       "                           ('nb_params', 524288)])),\n",
       "             ('BatchNorm2d-79',\n",
       "              OrderedDict([('input_shape', [-1, 1024, 5, 5]),\n",
       "                           ('output_shape', [-1, 1024, 5, 5]),\n",
       "                           ('trainable', False),\n",
       "                           ('nb_params', 2048)])),\n",
       "             ('Conv2d-80',\n",
       "              OrderedDict([('input_shape', [-1, 512, 10, 10]),\n",
       "                           ('output_shape', [-1, 1024, 5, 5]),\n",
       "                           ('trainable', False),\n",
       "                           ('nb_params', 524288)])),\n",
       "             ('BatchNorm2d-81',\n",
       "              OrderedDict([('input_shape', [-1, 1024, 5, 5]),\n",
       "                           ('output_shape', [-1, 1024, 5, 5]),\n",
       "                           ('trainable', False),\n",
       "                           ('nb_params', 2048)])),\n",
       "             ('ReLU-82',\n",
       "              OrderedDict([('input_shape', [-1, 1024, 5, 5]),\n",
       "                           ('output_shape', [-1, 1024, 5, 5]),\n",
       "                           ('nb_params', 0)])),\n",
       "             ('Conv2d-83',\n",
       "              OrderedDict([('input_shape', [-1, 1024, 5, 5]),\n",
       "                           ('output_shape', [-1, 512, 5, 5]),\n",
       "                           ('trainable', False),\n",
       "                           ('nb_params', 524288)])),\n",
       "             ('BatchNorm2d-84',\n",
       "              OrderedDict([('input_shape', [-1, 512, 5, 5]),\n",
       "                           ('output_shape', [-1, 512, 5, 5]),\n",
       "                           ('trainable', False),\n",
       "                           ('nb_params', 1024)])),\n",
       "             ('ReLU-85',\n",
       "              OrderedDict([('input_shape', [-1, 512, 5, 5]),\n",
       "                           ('output_shape', [-1, 512, 5, 5]),\n",
       "                           ('nb_params', 0)])),\n",
       "             ('Conv2d-86',\n",
       "              OrderedDict([('input_shape', [-1, 512, 5, 5]),\n",
       "                           ('output_shape', [-1, 512, 5, 5]),\n",
       "                           ('trainable', False),\n",
       "                           ('nb_params', 73728)])),\n",
       "             ('BatchNorm2d-87',\n",
       "              OrderedDict([('input_shape', [-1, 512, 5, 5]),\n",
       "                           ('output_shape', [-1, 512, 5, 5]),\n",
       "                           ('trainable', False),\n",
       "                           ('nb_params', 1024)])),\n",
       "             ('ReLU-88',\n",
       "              OrderedDict([('input_shape', [-1, 512, 5, 5]),\n",
       "                           ('output_shape', [-1, 512, 5, 5]),\n",
       "                           ('nb_params', 0)])),\n",
       "             ('Conv2d-89',\n",
       "              OrderedDict([('input_shape', [-1, 512, 5, 5]),\n",
       "                           ('output_shape', [-1, 1024, 5, 5]),\n",
       "                           ('trainable', False),\n",
       "                           ('nb_params', 524288)])),\n",
       "             ('BatchNorm2d-90',\n",
       "              OrderedDict([('input_shape', [-1, 1024, 5, 5]),\n",
       "                           ('output_shape', [-1, 1024, 5, 5]),\n",
       "                           ('trainable', False),\n",
       "                           ('nb_params', 2048)])),\n",
       "             ('ReLU-91',\n",
       "              OrderedDict([('input_shape', [-1, 1024, 5, 5]),\n",
       "                           ('output_shape', [-1, 1024, 5, 5]),\n",
       "                           ('nb_params', 0)])),\n",
       "             ('Conv2d-92',\n",
       "              OrderedDict([('input_shape', [-1, 1024, 5, 5]),\n",
       "                           ('output_shape', [-1, 512, 5, 5]),\n",
       "                           ('trainable', False),\n",
       "                           ('nb_params', 524288)])),\n",
       "             ('BatchNorm2d-93',\n",
       "              OrderedDict([('input_shape', [-1, 512, 5, 5]),\n",
       "                           ('output_shape', [-1, 512, 5, 5]),\n",
       "                           ('trainable', False),\n",
       "                           ('nb_params', 1024)])),\n",
       "             ('ReLU-94',\n",
       "              OrderedDict([('input_shape', [-1, 512, 5, 5]),\n",
       "                           ('output_shape', [-1, 512, 5, 5]),\n",
       "                           ('nb_params', 0)])),\n",
       "             ('Conv2d-95',\n",
       "              OrderedDict([('input_shape', [-1, 512, 5, 5]),\n",
       "                           ('output_shape', [-1, 512, 5, 5]),\n",
       "                           ('trainable', False),\n",
       "                           ('nb_params', 73728)])),\n",
       "             ('BatchNorm2d-96',\n",
       "              OrderedDict([('input_shape', [-1, 512, 5, 5]),\n",
       "                           ('output_shape', [-1, 512, 5, 5]),\n",
       "                           ('trainable', False),\n",
       "                           ('nb_params', 1024)])),\n",
       "             ('ReLU-97',\n",
       "              OrderedDict([('input_shape', [-1, 512, 5, 5]),\n",
       "                           ('output_shape', [-1, 512, 5, 5]),\n",
       "                           ('nb_params', 0)])),\n",
       "             ('Conv2d-98',\n",
       "              OrderedDict([('input_shape', [-1, 512, 5, 5]),\n",
       "                           ('output_shape', [-1, 1024, 5, 5]),\n",
       "                           ('trainable', False),\n",
       "                           ('nb_params', 524288)])),\n",
       "             ('BatchNorm2d-99',\n",
       "              OrderedDict([('input_shape', [-1, 1024, 5, 5]),\n",
       "                           ('output_shape', [-1, 1024, 5, 5]),\n",
       "                           ('trainable', False),\n",
       "                           ('nb_params', 2048)])),\n",
       "             ('ReLU-100',\n",
       "              OrderedDict([('input_shape', [-1, 1024, 5, 5]),\n",
       "                           ('output_shape', [-1, 1024, 5, 5]),\n",
       "                           ('nb_params', 0)])),\n",
       "             ('Conv2d-101',\n",
       "              OrderedDict([('input_shape', [-1, 1024, 5, 5]),\n",
       "                           ('output_shape', [-1, 512, 5, 5]),\n",
       "                           ('trainable', False),\n",
       "                           ('nb_params', 524288)])),\n",
       "             ('BatchNorm2d-102',\n",
       "              OrderedDict([('input_shape', [-1, 512, 5, 5]),\n",
       "                           ('output_shape', [-1, 512, 5, 5]),\n",
       "                           ('trainable', False),\n",
       "                           ('nb_params', 1024)])),\n",
       "             ('ReLU-103',\n",
       "              OrderedDict([('input_shape', [-1, 512, 5, 5]),\n",
       "                           ('output_shape', [-1, 512, 5, 5]),\n",
       "                           ('nb_params', 0)])),\n",
       "             ('Conv2d-104',\n",
       "              OrderedDict([('input_shape', [-1, 512, 5, 5]),\n",
       "                           ('output_shape', [-1, 512, 5, 5]),\n",
       "                           ('trainable', False),\n",
       "                           ('nb_params', 73728)])),\n",
       "             ('BatchNorm2d-105',\n",
       "              OrderedDict([('input_shape', [-1, 512, 5, 5]),\n",
       "                           ('output_shape', [-1, 512, 5, 5]),\n",
       "                           ('trainable', False),\n",
       "                           ('nb_params', 1024)])),\n",
       "             ('ReLU-106',\n",
       "              OrderedDict([('input_shape', [-1, 512, 5, 5]),\n",
       "                           ('output_shape', [-1, 512, 5, 5]),\n",
       "                           ('nb_params', 0)])),\n",
       "             ('Conv2d-107',\n",
       "              OrderedDict([('input_shape', [-1, 512, 5, 5]),\n",
       "                           ('output_shape', [-1, 1024, 5, 5]),\n",
       "                           ('trainable', False),\n",
       "                           ('nb_params', 524288)])),\n",
       "             ('BatchNorm2d-108',\n",
       "              OrderedDict([('input_shape', [-1, 1024, 5, 5]),\n",
       "                           ('output_shape', [-1, 1024, 5, 5]),\n",
       "                           ('trainable', False),\n",
       "                           ('nb_params', 2048)])),\n",
       "             ('ReLU-109',\n",
       "              OrderedDict([('input_shape', [-1, 1024, 5, 5]),\n",
       "                           ('output_shape', [-1, 1024, 5, 5]),\n",
       "                           ('nb_params', 0)])),\n",
       "             ('Conv2d-110',\n",
       "              OrderedDict([('input_shape', [-1, 1024, 5, 5]),\n",
       "                           ('output_shape', [-1, 512, 5, 5]),\n",
       "                           ('trainable', False),\n",
       "                           ('nb_params', 524288)])),\n",
       "             ('BatchNorm2d-111',\n",
       "              OrderedDict([('input_shape', [-1, 512, 5, 5]),\n",
       "                           ('output_shape', [-1, 512, 5, 5]),\n",
       "                           ('trainable', False),\n",
       "                           ('nb_params', 1024)])),\n",
       "             ('ReLU-112',\n",
       "              OrderedDict([('input_shape', [-1, 512, 5, 5]),\n",
       "                           ('output_shape', [-1, 512, 5, 5]),\n",
       "                           ('nb_params', 0)])),\n",
       "             ('Conv2d-113',\n",
       "              OrderedDict([('input_shape', [-1, 512, 5, 5]),\n",
       "                           ('output_shape', [-1, 512, 5, 5]),\n",
       "                           ('trainable', False),\n",
       "                           ('nb_params', 73728)])),\n",
       "             ('BatchNorm2d-114',\n",
       "              OrderedDict([('input_shape', [-1, 512, 5, 5]),\n",
       "                           ('output_shape', [-1, 512, 5, 5]),\n",
       "                           ('trainable', False),\n",
       "                           ('nb_params', 1024)])),\n",
       "             ('ReLU-115',\n",
       "              OrderedDict([('input_shape', [-1, 512, 5, 5]),\n",
       "                           ('output_shape', [-1, 512, 5, 5]),\n",
       "                           ('nb_params', 0)])),\n",
       "             ('Conv2d-116',\n",
       "              OrderedDict([('input_shape', [-1, 512, 5, 5]),\n",
       "                           ('output_shape', [-1, 1024, 5, 5]),\n",
       "                           ('trainable', False),\n",
       "                           ('nb_params', 524288)])),\n",
       "             ('BatchNorm2d-117',\n",
       "              OrderedDict([('input_shape', [-1, 1024, 5, 5]),\n",
       "                           ('output_shape', [-1, 1024, 5, 5]),\n",
       "                           ('trainable', False),\n",
       "                           ('nb_params', 2048)])),\n",
       "             ('ReLU-118',\n",
       "              OrderedDict([('input_shape', [-1, 1024, 5, 5]),\n",
       "                           ('output_shape', [-1, 1024, 5, 5]),\n",
       "                           ('nb_params', 0)])),\n",
       "             ('Conv2d-119',\n",
       "              OrderedDict([('input_shape', [-1, 1024, 5, 5]),\n",
       "                           ('output_shape', [-1, 512, 5, 5]),\n",
       "                           ('trainable', False),\n",
       "                           ('nb_params', 524288)])),\n",
       "             ('BatchNorm2d-120',\n",
       "              OrderedDict([('input_shape', [-1, 512, 5, 5]),\n",
       "                           ('output_shape', [-1, 512, 5, 5]),\n",
       "                           ('trainable', False),\n",
       "                           ('nb_params', 1024)])),\n",
       "             ('ReLU-121',\n",
       "              OrderedDict([('input_shape', [-1, 512, 5, 5]),\n",
       "                           ('output_shape', [-1, 512, 5, 5]),\n",
       "                           ('nb_params', 0)])),\n",
       "             ('Conv2d-122',\n",
       "              OrderedDict([('input_shape', [-1, 512, 5, 5]),\n",
       "                           ('output_shape', [-1, 512, 5, 5]),\n",
       "                           ('trainable', False),\n",
       "                           ('nb_params', 73728)])),\n",
       "             ('BatchNorm2d-123',\n",
       "              OrderedDict([('input_shape', [-1, 512, 5, 5]),\n",
       "                           ('output_shape', [-1, 512, 5, 5]),\n",
       "                           ('trainable', False),\n",
       "                           ('nb_params', 1024)])),\n",
       "             ('ReLU-124',\n",
       "              OrderedDict([('input_shape', [-1, 512, 5, 5]),\n",
       "                           ('output_shape', [-1, 512, 5, 5]),\n",
       "                           ('nb_params', 0)])),\n",
       "             ('Conv2d-125',\n",
       "              OrderedDict([('input_shape', [-1, 512, 5, 5]),\n",
       "                           ('output_shape', [-1, 1024, 5, 5]),\n",
       "                           ('trainable', False),\n",
       "                           ('nb_params', 524288)])),\n",
       "             ('BatchNorm2d-126',\n",
       "              OrderedDict([('input_shape', [-1, 1024, 5, 5]),\n",
       "                           ('output_shape', [-1, 1024, 5, 5]),\n",
       "                           ('trainable', False),\n",
       "                           ('nb_params', 2048)])),\n",
       "             ('ReLU-127',\n",
       "              OrderedDict([('input_shape', [-1, 1024, 5, 5]),\n",
       "                           ('output_shape', [-1, 1024, 5, 5]),\n",
       "                           ('nb_params', 0)])),\n",
       "             ('Conv2d-128',\n",
       "              OrderedDict([('input_shape', [-1, 1024, 5, 5]),\n",
       "                           ('output_shape', [-1, 1024, 5, 5]),\n",
       "                           ('trainable', False),\n",
       "                           ('nb_params', 1048576)])),\n",
       "             ('BatchNorm2d-129',\n",
       "              OrderedDict([('input_shape', [-1, 1024, 5, 5]),\n",
       "                           ('output_shape', [-1, 1024, 5, 5]),\n",
       "                           ('trainable', False),\n",
       "                           ('nb_params', 2048)])),\n",
       "             ('ReLU-130',\n",
       "              OrderedDict([('input_shape', [-1, 1024, 5, 5]),\n",
       "                           ('output_shape', [-1, 1024, 5, 5]),\n",
       "                           ('nb_params', 0)])),\n",
       "             ('Conv2d-131',\n",
       "              OrderedDict([('input_shape', [-1, 1024, 5, 5]),\n",
       "                           ('output_shape', [-1, 1024, 3, 3]),\n",
       "                           ('trainable', False),\n",
       "                           ('nb_params', 294912)])),\n",
       "             ('BatchNorm2d-132',\n",
       "              OrderedDict([('input_shape', [-1, 1024, 3, 3]),\n",
       "                           ('output_shape', [-1, 1024, 3, 3]),\n",
       "                           ('trainable', False),\n",
       "                           ('nb_params', 2048)])),\n",
       "             ('ReLU-133',\n",
       "              OrderedDict([('input_shape', [-1, 1024, 3, 3]),\n",
       "                           ('output_shape', [-1, 1024, 3, 3]),\n",
       "                           ('nb_params', 0)])),\n",
       "             ('Conv2d-134',\n",
       "              OrderedDict([('input_shape', [-1, 1024, 3, 3]),\n",
       "                           ('output_shape', [-1, 2048, 3, 3]),\n",
       "                           ('trainable', False),\n",
       "                           ('nb_params', 2097152)])),\n",
       "             ('BatchNorm2d-135',\n",
       "              OrderedDict([('input_shape', [-1, 2048, 3, 3]),\n",
       "                           ('output_shape', [-1, 2048, 3, 3]),\n",
       "                           ('trainable', False),\n",
       "                           ('nb_params', 4096)])),\n",
       "             ('Conv2d-136',\n",
       "              OrderedDict([('input_shape', [-1, 1024, 5, 5]),\n",
       "                           ('output_shape', [-1, 2048, 3, 3]),\n",
       "                           ('trainable', False),\n",
       "                           ('nb_params', 2097152)])),\n",
       "             ('BatchNorm2d-137',\n",
       "              OrderedDict([('input_shape', [-1, 2048, 3, 3]),\n",
       "                           ('output_shape', [-1, 2048, 3, 3]),\n",
       "                           ('trainable', False),\n",
       "                           ('nb_params', 4096)])),\n",
       "             ('ReLU-138',\n",
       "              OrderedDict([('input_shape', [-1, 2048, 3, 3]),\n",
       "                           ('output_shape', [-1, 2048, 3, 3]),\n",
       "                           ('nb_params', 0)])),\n",
       "             ('Conv2d-139',\n",
       "              OrderedDict([('input_shape', [-1, 2048, 3, 3]),\n",
       "                           ('output_shape', [-1, 1024, 3, 3]),\n",
       "                           ('trainable', False),\n",
       "                           ('nb_params', 2097152)])),\n",
       "             ('BatchNorm2d-140',\n",
       "              OrderedDict([('input_shape', [-1, 1024, 3, 3]),\n",
       "                           ('output_shape', [-1, 1024, 3, 3]),\n",
       "                           ('trainable', False),\n",
       "                           ('nb_params', 2048)])),\n",
       "             ('ReLU-141',\n",
       "              OrderedDict([('input_shape', [-1, 1024, 3, 3]),\n",
       "                           ('output_shape', [-1, 1024, 3, 3]),\n",
       "                           ('nb_params', 0)])),\n",
       "             ('Conv2d-142',\n",
       "              OrderedDict([('input_shape', [-1, 1024, 3, 3]),\n",
       "                           ('output_shape', [-1, 1024, 3, 3]),\n",
       "                           ('trainable', False),\n",
       "                           ('nb_params', 294912)])),\n",
       "             ('BatchNorm2d-143',\n",
       "              OrderedDict([('input_shape', [-1, 1024, 3, 3]),\n",
       "                           ('output_shape', [-1, 1024, 3, 3]),\n",
       "                           ('trainable', False),\n",
       "                           ('nb_params', 2048)])),\n",
       "             ('ReLU-144',\n",
       "              OrderedDict([('input_shape', [-1, 1024, 3, 3]),\n",
       "                           ('output_shape', [-1, 1024, 3, 3]),\n",
       "                           ('nb_params', 0)])),\n",
       "             ('Conv2d-145',\n",
       "              OrderedDict([('input_shape', [-1, 1024, 3, 3]),\n",
       "                           ('output_shape', [-1, 2048, 3, 3]),\n",
       "                           ('trainable', False),\n",
       "                           ('nb_params', 2097152)])),\n",
       "             ('BatchNorm2d-146',\n",
       "              OrderedDict([('input_shape', [-1, 2048, 3, 3]),\n",
       "                           ('output_shape', [-1, 2048, 3, 3]),\n",
       "                           ('trainable', False),\n",
       "                           ('nb_params', 4096)])),\n",
       "             ('ReLU-147',\n",
       "              OrderedDict([('input_shape', [-1, 2048, 3, 3]),\n",
       "                           ('output_shape', [-1, 2048, 3, 3]),\n",
       "                           ('nb_params', 0)])),\n",
       "             ('Conv2d-148',\n",
       "              OrderedDict([('input_shape', [-1, 2048, 3, 3]),\n",
       "                           ('output_shape', [-1, 1024, 3, 3]),\n",
       "                           ('trainable', False),\n",
       "                           ('nb_params', 2097152)])),\n",
       "             ('BatchNorm2d-149',\n",
       "              OrderedDict([('input_shape', [-1, 1024, 3, 3]),\n",
       "                           ('output_shape', [-1, 1024, 3, 3]),\n",
       "                           ('trainable', False),\n",
       "                           ('nb_params', 2048)])),\n",
       "             ('ReLU-150',\n",
       "              OrderedDict([('input_shape', [-1, 1024, 3, 3]),\n",
       "                           ('output_shape', [-1, 1024, 3, 3]),\n",
       "                           ('nb_params', 0)])),\n",
       "             ('Conv2d-151',\n",
       "              OrderedDict([('input_shape', [-1, 1024, 3, 3]),\n",
       "                           ('output_shape', [-1, 1024, 3, 3]),\n",
       "                           ('trainable', False),\n",
       "                           ('nb_params', 294912)])),\n",
       "             ('BatchNorm2d-152',\n",
       "              OrderedDict([('input_shape', [-1, 1024, 3, 3]),\n",
       "                           ('output_shape', [-1, 1024, 3, 3]),\n",
       "                           ('trainable', False),\n",
       "                           ('nb_params', 2048)])),\n",
       "             ('ReLU-153',\n",
       "              OrderedDict([('input_shape', [-1, 1024, 3, 3]),\n",
       "                           ('output_shape', [-1, 1024, 3, 3]),\n",
       "                           ('nb_params', 0)])),\n",
       "             ('Conv2d-154',\n",
       "              OrderedDict([('input_shape', [-1, 1024, 3, 3]),\n",
       "                           ('output_shape', [-1, 2048, 3, 3]),\n",
       "                           ('trainable', False),\n",
       "                           ('nb_params', 2097152)])),\n",
       "             ('BatchNorm2d-155',\n",
       "              OrderedDict([('input_shape', [-1, 2048, 3, 3]),\n",
       "                           ('output_shape', [-1, 2048, 3, 3]),\n",
       "                           ('trainable', False),\n",
       "                           ('nb_params', 4096)])),\n",
       "             ('ReLU-156',\n",
       "              OrderedDict([('input_shape', [-1, 2048, 3, 3]),\n",
       "                           ('output_shape', [-1, 2048, 3, 3]),\n",
       "                           ('nb_params', 0)])),\n",
       "             ('Flatten-157',\n",
       "              OrderedDict([('input_shape', [-1, 2048, 3, 3]),\n",
       "                           ('output_shape', [-1, 18432]),\n",
       "                           ('nb_params', 0)])),\n",
       "             ('Linear-158',\n",
       "              OrderedDict([('input_shape', [-1, 18432]),\n",
       "                           ('output_shape', [-1, 11]),\n",
       "                           ('trainable', True),\n",
       "                           ('nb_params', 202763)]))])"
      ]
     },
     "execution_count": 52,
     "metadata": {},
     "output_type": "execute_result"
    }
   ],
   "source": [
    "learner.summary()"
   ]
  },
  {
   "cell_type": "code",
   "execution_count": 11,
   "metadata": {},
   "outputs": [
    {
     "data": {
      "application/vnd.jupyter.widget-view+json": {
       "model_id": "513f3bb6a649422e8aabf37052a0088a",
       "version_major": 2,
       "version_minor": 0
      },
      "text/html": [
       "<p>Failed to display Jupyter Widget of type <code>HBox</code>.</p>\n",
       "<p>\n",
       "  If you're reading this message in the Jupyter Notebook or JupyterLab Notebook, it may mean\n",
       "  that the widgets JavaScript is still loading. If this message persists, it\n",
       "  likely means that the widgets JavaScript library is either not installed or\n",
       "  not enabled. See the <a href=\"https://ipywidgets.readthedocs.io/en/stable/user_install.html\">Jupyter\n",
       "  Widgets Documentation</a> for setup instructions.\n",
       "</p>\n",
       "<p>\n",
       "  If you're reading this message in another frontend (for example, a static\n",
       "  rendering on GitHub or <a href=\"https://nbviewer.jupyter.org/\">NBViewer</a>),\n",
       "  it may mean that your frontend doesn't currently support widgets.\n",
       "</p>\n"
      ],
      "text/plain": [
       "HBox(children=(IntProgress(value=0, description='Epoch', max=1), HTML(value='')))"
      ]
     },
     "metadata": {},
     "output_type": "display_data"
    },
    {
     "name": "stdout",
     "output_type": "stream",
     "text": [
      " 72%|███████▏  | 63/88 [00:04<00:01, 13.61it/s, loss=1.35] \n",
      "                                                          \r"
     ]
    },
    {
     "data": {
      "image/png": "[encoded data removed]",
      "text/plain": [
       "<matplotlib.figure.Figure at 0x7f15ff364a90>"
      ]
     },
     "metadata": {},
     "output_type": "display_data"
    }
   ],
   "source": [
    "learner.lr_find(1e-5,100)\n",
    "learner.sched.plot(5)"
   ]
  },
  {
   "cell_type": "code",
   "execution_count": 42,
   "metadata": {},
   "outputs": [
    {
     "data": {
      "text/plain": [
       "0.01"
      ]
     },
     "execution_count": 42,
     "metadata": {},
     "output_type": "execute_result"
    }
   ],
   "source": [
    "lr = 1e-2\n",
    "lr"
   ]
  },
  {
   "cell_type": "code",
   "execution_count": 43,
   "metadata": {},
   "outputs": [
    {
     "data": {
      "application/vnd.jupyter.widget-view+json": {
       "model_id": "1a3a8f71708c4153acffed0dcddd4c80",
       "version_major": 2,
       "version_minor": 0
      },
      "text/html": [
       "<p>Failed to display Jupyter Widget of type <code>HBox</code>.</p>\n",
       "<p>\n",
       "  If you're reading this message in the Jupyter Notebook or JupyterLab Notebook, it may mean\n",
       "  that the widgets JavaScript is still loading. If this message persists, it\n",
       "  likely means that the widgets JavaScript library is either not installed or\n",
       "  not enabled. See the <a href=\"https://ipywidgets.readthedocs.io/en/stable/user_install.html\">Jupyter\n",
       "  Widgets Documentation</a> for setup instructions.\n",
       "</p>\n",
       "<p>\n",
       "  If you're reading this message in another frontend (for example, a static\n",
       "  rendering on GitHub or <a href=\"https://nbviewer.jupyter.org/\">NBViewer</a>),\n",
       "  it may mean that your frontend doesn't currently support widgets.\n",
       "</p>\n"
      ],
      "text/plain": [
       "HBox(children=(IntProgress(value=0, description='Epoch', max=3), HTML(value='')))"
      ]
     },
     "metadata": {},
     "output_type": "display_data"
    },
    {
     "name": "stdout",
     "output_type": "stream",
     "text": [
      "epoch      trn_loss   val_loss                             \n",
      "    0      0.100527   0.040885  \n",
      " 15%|█▍        | 13/88 [00:00<00:05, 13.21it/s, loss=0.0952]\n",
      " 19%|█▉        | 17/88 [00:01<00:04, 14.85it/s, loss=0.0938]"
     ]
    },
    {
     "name": "stderr",
     "output_type": "stream",
     "text": [
      "Exception in thread Thread-4:\n",
      "Traceback (most recent call last):\n",
      "  File \"/home/ubuntu/src/anaconda3/envs/fastai/lib/python3.6/threading.py\", line 916, in _bootstrap_inner\n",
      "    self.run()\n",
      "  File \"/home/ubuntu/src/anaconda3/envs/fastai/lib/python3.6/site-packages/tqdm/_tqdm.py\", line 144, in run\n",
      "    for instance in self.tqdm_cls._instances:\n",
      "  File \"/home/ubuntu/src/anaconda3/envs/fastai/lib/python3.6/_weakrefset.py\", line 60, in __iter__\n",
      "    for itemref in self.data:\n",
      "RuntimeError: Set changed size during iteration\n",
      "\n"
     ]
    },
    {
     "name": "stdout",
     "output_type": "stream",
     "text": [
      "    1      0.054797   0.029018                              \n",
      "    2      0.039223   0.027933                              \n",
      "\n"
     ]
    },
    {
     "data": {
      "text/plain": [
       "[array([ 0.02793])]"
      ]
     },
     "execution_count": 43,
     "metadata": {},
     "output_type": "execute_result"
    }
   ],
   "source": [
    "learner.fit(lr, 3, cycle_len=1)"
   ]
  },
  {
   "cell_type": "code",
   "execution_count": 13,
   "metadata": {},
   "outputs": [],
   "source": [
    "# learner.load('rnx50_cv1_ft_0.027')\n",
    "learner.save('rnx50_cv1_ft_0.025')"
   ]
  },
  {
   "cell_type": "code",
   "execution_count": 45,
   "metadata": {},
   "outputs": [
    {
     "data": {
      "text/plain": [
       "(array([ 0.11596,  0.13843,  0.34964,  0.38135,  0.35855,  0.10552,  0.07655,  0.06015,  0.08393,  0.07962,\n",
       "         0.09112], dtype=float32),\n",
       " array([ 0.14973,  0.1477 ,  0.39396,  0.46131,  0.45737,  0.11892,  0.0579 ,  0.0541 ,  0.07296,  0.08419,\n",
       "         0.10173], dtype=float32))"
      ]
     },
     "execution_count": 45,
     "metadata": {},
     "output_type": "execute_result"
    }
   ],
   "source": [
    "predictions, target = learner.predict_with_targs()\n",
    "i = 1\n",
    "predictions[i], target[i]"
   ]
  },
  {
   "cell_type": "code",
   "execution_count": 46,
   "metadata": {},
   "outputs": [
    {
     "data": {
      "text/plain": [
       "(array([ 0.11487,  0.13977,  0.35145,  0.38764,  0.35958,  0.10313,  0.07876,  0.06317,  0.08795,  0.07976,\n",
       "         0.08848], dtype=float32),\n",
       " array([ 0.11637,  0.16527,  0.3435 ,  0.41525,  0.39691,  0.13906,  0.07977,  0.07289,  0.08893,  0.09219,\n",
       "         0.11905], dtype=float32),\n",
       " (440, 11))"
      ]
     },
     "execution_count": 46,
     "metadata": {},
     "output_type": "execute_result"
    }
   ],
   "source": [
    "i = 3\n",
    "predictions[i], target[i], target.shape"
   ]
  },
  {
   "cell_type": "code",
   "execution_count": 47,
   "metadata": {},
   "outputs": [
    {
     "data": {
      "application/vnd.jupyter.widget-view+json": {
       "model_id": "67e1063a96124b77aae7a902f1cf67cb",
       "version_major": 2,
       "version_minor": 0
      },
      "text/html": [
       "<p>Failed to display Jupyter Widget of type <code>HBox</code>.</p>\n",
       "<p>\n",
       "  If you're reading this message in the Jupyter Notebook or JupyterLab Notebook, it may mean\n",
       "  that the widgets JavaScript is still loading. If this message persists, it\n",
       "  likely means that the widgets JavaScript library is either not installed or\n",
       "  not enabled. See the <a href=\"https://ipywidgets.readthedocs.io/en/stable/user_install.html\">Jupyter\n",
       "  Widgets Documentation</a> for setup instructions.\n",
       "</p>\n",
       "<p>\n",
       "  If you're reading this message in another frontend (for example, a static\n",
       "  rendering on GitHub or <a href=\"https://nbviewer.jupyter.org/\">NBViewer</a>),\n",
       "  it may mean that your frontend doesn't currently support widgets.\n",
       "</p>\n"
      ],
      "text/plain": [
       "HBox(children=(IntProgress(value=0, description='Epoch', max=4), HTML(value='')))"
      ]
     },
     "metadata": {},
     "output_type": "display_data"
    },
    {
     "name": "stdout",
     "output_type": "stream",
     "text": [
      "epoch      trn_loss   val_loss                              \n",
      "    0      0.030261   0.025015  \n",
      "    1      0.022537   0.02427                               \n",
      "    2      0.02276    0.023812                              \n",
      "    3      0.020462   0.032321                              \n",
      "\n"
     ]
    },
    {
     "data": {
      "text/plain": [
       "[array([ 0.03232])]"
      ]
     },
     "execution_count": 47,
     "metadata": {},
     "output_type": "execute_result"
    }
   ],
   "source": [
    "learner.fit(lr, 2, cycle_len=2)"
   ]
  },
  {
   "cell_type": "code",
   "execution_count": 24,
   "metadata": {},
   "outputs": [],
   "source": [
    "predictions, target = learner.predict_with_targs()"
   ]
  },
  {
   "cell_type": "code",
   "execution_count": 29,
   "metadata": {},
   "outputs": [],
   "source": [
    "learner.load('rnx50_cv1_ft_0.023')"
   ]
  },
  {
   "cell_type": "code",
   "execution_count": 28,
   "metadata": {},
   "outputs": [
    {
     "data": {
      "text/plain": [
       "(array([ 0.13577,  0.11509,  0.39784,  0.42617,  0.40632,  0.08704,  0.06483,  0.0618 ,  0.06358,  0.05727,\n",
       "         0.07556], dtype=float32),\n",
       " array([ 0.10824,  0.10371,  0.33833,  0.38451,  0.38869,  0.08352,  0.06874,  0.06747,  0.07309,  0.04978,\n",
       "         0.06258], dtype=float32))"
      ]
     },
     "execution_count": 28,
     "metadata": {},
     "output_type": "execute_result"
    }
   ],
   "source": [
    "i = 2\n",
    "predictions[i], target[i]"
   ]
  },
  {
   "cell_type": "code",
   "execution_count": 48,
   "metadata": {},
   "outputs": [],
   "source": [
    "lrs = np.array([lr/100,lr/10,lr])\n",
    "learner.freeze_to(-2)"
   ]
  },
  {
   "cell_type": "code",
   "execution_count": 49,
   "metadata": {},
   "outputs": [
    {
     "data": {
      "application/vnd.jupyter.widget-view+json": {
       "model_id": "a30ee95cec7e448697406b13352e9d95",
       "version_major": 2,
       "version_minor": 0
      },
      "text/html": [
       "<p>Failed to display Jupyter Widget of type <code>HBox</code>.</p>\n",
       "<p>\n",
       "  If you're reading this message in the Jupyter Notebook or JupyterLab Notebook, it may mean\n",
       "  that the widgets JavaScript is still loading. If this message persists, it\n",
       "  likely means that the widgets JavaScript library is either not installed or\n",
       "  not enabled. See the <a href=\"https://ipywidgets.readthedocs.io/en/stable/user_install.html\">Jupyter\n",
       "  Widgets Documentation</a> for setup instructions.\n",
       "</p>\n",
       "<p>\n",
       "  If you're reading this message in another frontend (for example, a static\n",
       "  rendering on GitHub or <a href=\"https://nbviewer.jupyter.org/\">NBViewer</a>),\n",
       "  it may mean that your frontend doesn't currently support widgets.\n",
       "</p>\n"
      ],
      "text/plain": [
       "HBox(children=(IntProgress(value=0, description='Epoch', max=14), HTML(value='')))"
      ]
     },
     "metadata": {},
     "output_type": "display_data"
    },
    {
     "name": "stdout",
     "output_type": "stream",
     "text": [
      "epoch      trn_loss   val_loss                              \n",
      "    0      0.021006   0.019703  \n",
      "    1      0.016804   0.016203                              \n",
      "    2      0.018813   0.022527                              \n",
      "    3      0.018264   0.016505                              \n",
      "    4      0.015787   0.015726                              \n",
      "    5      0.014075   0.014806                              \n",
      "    6      0.017994   0.023716                              \n",
      "    7      0.018025   0.022236                              \n",
      "    8      0.017641   0.020127                              \n",
      "    9      0.01621    0.017619                              \n",
      "    10     0.015211   0.016378                              \n",
      "    11     0.014159   0.016349                              \n",
      "    12     0.013664   0.015047                              \n",
      "    13     0.013048   0.014968                              \n",
      "\n"
     ]
    },
    {
     "data": {
      "text/plain": [
       "[array([ 0.01497])]"
      ]
     },
     "execution_count": 49,
     "metadata": {},
     "output_type": "execute_result"
    }
   ],
   "source": [
    "learner.fit(lrs, 3, cycle_len=2, cycle_mult=2, best_save_name='rnx50_cv1')"
   ]
  },
  {
   "cell_type": "code",
   "execution_count": 56,
   "metadata": {},
   "outputs": [],
   "source": [
    "learner.load('rnx50_cv1_0.0148')\n",
    "predictions, target = learner.predict_with_targs()"
   ]
  },
  {
   "cell_type": "code",
   "execution_count": 57,
   "metadata": {},
   "outputs": [
    {
     "data": {
      "text/plain": [
       "(array([ 0.12165,  0.12928,  0.38132,  0.40023,  0.39642,  0.0967 ,  0.0718 ,  0.07   ,  0.07229,  0.06926,\n",
       "         0.09199], dtype=float32),\n",
       " array([ 0.13172,  0.1498 ,  0.3813 ,  0.4276 ,  0.41972,  0.11385,  0.05808,  0.0635 ,  0.07618,  0.08642,\n",
       "         0.11889], dtype=float32))"
      ]
     },
     "execution_count": 57,
     "metadata": {},
     "output_type": "execute_result"
    }
   ],
   "source": [
    "i = 11\n",
    "predictions[i], target[i]"
   ]
  },
  {
   "cell_type": "code",
   "execution_count": 44,
   "metadata": {},
   "outputs": [],
   "source": [
    "learner.load('rnx50_cv1_lgp2_0.138')"
   ]
  },
  {
   "cell_type": "code",
   "execution_count": 59,
   "metadata": {},
   "outputs": [],
   "source": [
    "# learner.freeze_to(-3)\n",
    "# learner.fit(lrs, 5, cycle_len=2, cycle_mult=2, best_save_name='rnx50_cv1')"
   ]
  },
  {
   "cell_type": "code",
   "execution_count": 19,
   "metadata": {},
   "outputs": [],
   "source": [
    "def logcosh_loss(input, target):\n",
    "    loss = torch.mean(torch.log(torch.cosh(input - target)))\n",
    "    # I looked at these quantities separately first then picked a multiplier\n",
    "    #   to make them approximately equal\n",
    "    return loss*100\n",
    "\n",
    "def my_l1_loss(input, target):\n",
    "    return F.l1_loss(V(input),V(target)).data\n",
    "\n",
    "def mse_loss(input, target):\n",
    "    return F.mse_loss(input, target)*100\n",
    "\n",
    "learner.crit = logcosh_loss\n",
    "learner.metrics = [my_l1_loss]\n"
   ]
  },
  {
   "cell_type": "code",
   "execution_count": null,
   "metadata": {},
   "outputs": [],
   "source": [
    "learner.lr_find(1e-5,100)\n",
    "learner.sched.plot(5)"
   ]
  },
  {
   "cell_type": "code",
   "execution_count": 18,
   "metadata": {},
   "outputs": [
    {
     "data": {
      "application/vnd.jupyter.widget-view+json": {
       "model_id": "b3fabf1f653c4afb9267dc28934c28df",
       "version_major": 2,
       "version_minor": 0
      },
      "text/html": [
       "<p>Failed to display Jupyter Widget of type <code>HBox</code>.</p>\n",
       "<p>\n",
       "  If you're reading this message in the Jupyter Notebook or JupyterLab Notebook, it may mean\n",
       "  that the widgets JavaScript is still loading. If this message persists, it\n",
       "  likely means that the widgets JavaScript library is either not installed or\n",
       "  not enabled. See the <a href=\"https://ipywidgets.readthedocs.io/en/stable/user_install.html\">Jupyter\n",
       "  Widgets Documentation</a> for setup instructions.\n",
       "</p>\n",
       "<p>\n",
       "  If you're reading this message in another frontend (for example, a static\n",
       "  rendering on GitHub or <a href=\"https://nbviewer.jupyter.org/\">NBViewer</a>),\n",
       "  it may mean that your frontend doesn't currently support widgets.\n",
       "</p>\n"
      ],
      "text/plain": [
       "HBox(children=(IntProgress(value=0, description='Epoch', max=4), HTML(value='')))"
      ]
     },
     "metadata": {},
     "output_type": "display_data"
    },
    {
     "name": "stdout",
     "output_type": "stream",
     "text": [
      "epoch      trn_loss   val_loss   my_l1_loss                \n",
      "    0      0.106814   0.016474   0.038045  \n",
      "    1      0.02438    0.021552   0.034813                   \n",
      "    2      0.013192   0.008186   0.030488                   \n",
      "    3      0.008216   0.007187   0.02801                     \n",
      "\n"
     ]
    },
    {
     "data": {
      "text/plain": [
       "[array([ 0.00719]), 0.028010268568653952]"
      ]
     },
     "execution_count": 18,
     "metadata": {},
     "output_type": "execute_result"
    }
   ],
   "source": [
    "lr=0.01\n",
    "learner.fit(lr, 2, cycle_len=2)"
   ]
  },
  {
   "cell_type": "code",
   "execution_count": 49,
   "metadata": {},
   "outputs": [
    {
     "data": {
      "text/plain": [
       "0.012532822787761688"
      ]
     },
     "execution_count": 49,
     "metadata": {},
     "output_type": "execute_result"
    }
   ],
   "source": [
    "learner.load('rnx50_cv1')\n",
    "predictions, target = learner.predict_with_targs()\n",
    "F.l1_loss(Variable(torch.from_numpy(predictions)), Variable(torch.from_numpy(target))).data[0]"
   ]
  },
  {
   "cell_type": "markdown",
   "metadata": {},
   "source": [
    "## Custom loss: LogCosh loss"
   ]
  },
  {
   "cell_type": "code",
   "execution_count": 70,
   "metadata": {},
   "outputs": [
    {
     "data": {
      "text/plain": [
       "module"
      ]
     },
     "execution_count": 70,
     "metadata": {},
     "output_type": "execute_result"
    }
   ],
   "source": []
  },
  {
   "cell_type": "code",
   "execution_count": 96,
   "metadata": {},
   "outputs": [],
   "source": [
    "class LogCosh_Loss(torch.autograd.Function):\n",
    "\n",
    "    def __init__(self):\n",
    "        super(LogCosh_Loss, self).__init__()\n",
    "\n",
    "    def forward(self,input, target):\n",
    "        output = torch.log(torch.cosh(input - target))\n",
    "        output = torch.sum(output)\n",
    "        output = torch.Tensor([output]).cuda() # NEW line\n",
    "#         input = torch.Tensor([input]).cuda()\n",
    "        self.save_for_backward(input, output)\n",
    "        return output\n",
    "    \n"
   ]
  },
  {
   "cell_type": "code",
   "execution_count": 99,
   "metadata": {},
   "outputs": [
    {
     "data": {
      "text/plain": [
       "Variable containing:\n",
       " 0.1066\n",
       " 0.0327\n",
       " 0.0619\n",
       "[torch.FloatTensor of size 3]"
      ]
     },
     "execution_count": 99,
     "metadata": {},
     "output_type": "execute_result"
    }
   ],
   "source": [
    "input = Variable(torch.rand(3))\n",
    "target = Variable(torch.rand(3))\n",
    "loss = torch.sum(torch.log(torch.cosh(input - target)))\n",
    "LogCosh_Loss()(input, target)\n",
    "(input - target).abs()"
   ]
  },
  {
   "cell_type": "code",
   "execution_count": 117,
   "metadata": {},
   "outputs": [
    {
     "data": {
      "text/plain": [
       "\n",
       " 0.1104\n",
       " 0.1924\n",
       " 0.4644\n",
       "[torch.FloatTensor of size 3]"
      ]
     },
     "execution_count": 117,
     "metadata": {},
     "output_type": "execute_result"
    }
   ],
   "source": [
    "input.data"
   ]
  },
  {
   "cell_type": "code",
   "execution_count": 118,
   "metadata": {},
   "outputs": [
    {
     "name": "stdout",
     "output_type": "stream",
     "text": [
      "True\n"
     ]
    }
   ],
   "source": [
    "input = Variable(torch.rand(3))\n",
    "target = Variable(torch.rand(3))\n",
    "save = True\n",
    "res = torch.autograd.gradcheck(LogCosh_Loss(), (input, target), raise_exception=False)\n",
    "print(res) # res should be True if the gradients are correct."
   ]
  },
  {
   "cell_type": "markdown",
   "metadata": {
    "heading_collapsed": true
   },
   "source": [
    "## Visualization of endocardium and epicardium"
   ]
  },
  {
   "cell_type": "code",
   "execution_count": 167,
   "metadata": {
    "hidden": true
   },
   "outputs": [
    {
     "data": {
      "text/plain": [
       "<matplotlib.image.AxesImage at 0x7f69e0600710>"
      ]
     },
     "execution_count": 167,
     "metadata": {},
     "output_type": "execute_result"
    },
    {
     "data": {
      "image/png": "[encoded data removed]",
      "text/plain": [
       "<matplotlib.figure.Figure at 0x7f69e06f6c50>"
      ]
     },
     "metadata": {},
     "output_type": "display_data"
    }
   ],
   "source": [
    "red  = (255, 0, 0) #np.array([255, 0, 0], dtype=np.uint8)\n",
    "green = (0, 255, 0) #np.array([0, 255, 0], dtype=np.uint8)\n",
    "blue   = (0, 0, 255) \n",
    "def overlay(im, mask, color):\n",
    "    overlaid = im.copy()\n",
    "    for i in range(im.shape[0]):\n",
    "        for j in range(im.shape[1]):\n",
    "            if (mask[i,j] > 100).all():\n",
    "                overlaid[i,j] = color\n",
    "    return overlaid\n",
    "\n",
    "pat_endo = data['endo_LV'][:,:,200]\n",
    "pat_endo = make_cv2_compatible(pat_endo)\n",
    "pat_epi = data['epi_LV'][:,:,200]\n",
    "pat_epi = make_cv2_compatible(pat_epi)\n",
    "both = overlay(pat_epi, pat_endo, red)\n",
    "plt.imshow(both)\n",
    "\n"
   ]
  },
  {
   "cell_type": "markdown",
   "metadata": {
    "heading_collapsed": true
   },
   "source": [
    "## Compute Bounding Boxes of endocardium and epicardium segments"
   ]
  },
  {
   "cell_type": "code",
   "execution_count": 169,
   "metadata": {
    "hidden": true
   },
   "outputs": [
    {
     "name": "stdout",
     "output_type": "stream",
     "text": [
      "(80, 80, 3)\n",
      "1\n",
      "(22, 20, 50, 43)\n"
     ]
    },
    {
     "data": {
      "text/plain": [
       "<matplotlib.image.AxesImage at 0x7f69e0945e48>"
      ]
     },
     "execution_count": 169,
     "metadata": {},
     "output_type": "execute_result"
    },
    {
     "data": {
      "image/png": "[encoded data removed]",
      "text/plain": [
       "<matplotlib.figure.Figure at 0x7f69e068d860>"
      ]
     },
     "metadata": {},
     "output_type": "display_data"
    }
   ],
   "source": [
    "import cv2\n",
    "\n",
    "def make_cv2_compatible(img, cmap='gray'):\n",
    "    plt.imsave(\"tmp.jpg\", img, cmap=cmap )\n",
    "    im = cv2.imread('tmp.jpg')\n",
    "    return im\n",
    "\n",
    "def min_max(x):\n",
    "    return np.min(x), np.max(x)\n",
    "\n",
    "\n",
    "def meth1(pat):\n",
    "    xs, ys = np.where(pat==1)\n",
    "    min_x, max_x = min_max(xs)\n",
    "    min_y, max_y = min_max(ys)\n",
    "    # points = [[xs[i], ys[i]] for i in [min_x, max_x, min_y, max_y]]\n",
    "    points = np.array([[min_y,min_x], [max_y,max_x]])\n",
    "    return  cv2.boundingRect(points)\n",
    " \n",
    "def get_bb(pat):\n",
    "    im = make_cv2_compatible(pat)\n",
    "    ctrs= cv2.findContours( cv2.cvtColor(im, cv2.COLOR_BGR2GRAY),cv2.RETR_EXTERNAL,cv2.CHAIN_APPROX_SIMPLE )[1]\n",
    "    return cv2.boundingRect(ctrs[0])\n",
    "    \n",
    "pat = data['epi_LV'][:,:,200]\n",
    "\n",
    "\n",
    "\n",
    "\n",
    "xs, ys = np.where(pat==1)\n",
    "\n",
    "min_x, max_x = min_max(xs)\n",
    "min_y, max_y = min_max(ys)\n",
    "# points = [[xs[i], ys[i]] for i in [min_x, max_x, min_y, max_y]]\n",
    "points = np.array([[min_y,min_x], [max_y,max_x]])\n",
    "# seg_endo[:,:,0][22,39]\n",
    "pat = make_cv2_compatible(pat)\n",
    "print(pat.shape)\n",
    "ctrs= cv2.findContours( cv2.cvtColor(pat, cv2.COLOR_BGR2GRAY),cv2.RETR_EXTERNAL,cv2.CHAIN_APPROX_SIMPLE )[1]\n",
    "print(len(ctrs))\n",
    "(x, y, w, h) = cv2.boundingRect(points)\n",
    "print((x, y, w, h))\n",
    "cv2.rectangle(both,(x, y), (x + w, y + h), (0, 0, 255), 1)\n",
    "plt.imshow(both)"
   ]
  },
  {
   "cell_type": "code",
   "execution_count": 158,
   "metadata": {
    "hidden": true
   },
   "outputs": [
    {
     "name": "stdout",
     "output_type": "stream",
     "text": [
      "(80, 80, 2900) 2900\n"
     ]
    }
   ],
   "source": [
    "n = data[\"images_LV\"].shape[-1]\n",
    "print(data['endo_LV'].shape,n)\n",
    "endo_bb = [meth1(data['endo_LV'][:,:,i]) for i in range(n)]\n",
    "epi_bb = [meth1(data['epi_LV'][:,:,i]) for i in range(n)]"
   ]
  },
  {
   "cell_type": "code",
   "execution_count": null,
   "metadata": {
    "collapsed": true,
    "hidden": true
   },
   "outputs": [],
   "source": []
  }
 ],
 "metadata": {
  "anaconda-cloud": {},
  "kernelspec": {
   "display_name": "Python 3",
   "language": "python",
   "name": "python3"
  },
  "language_info": {
   "codemirror_mode": {
    "name": "ipython",
    "version": 3
   },
   "file_extension": ".py",
   "mimetype": "text/x-python",
   "name": "python",
   "nbconvert_exporter": "python",
   "pygments_lexer": "ipython3",
   "version": "3.6.4"
  }
 },
 "nbformat": 4,
 "nbformat_minor": 2
}
