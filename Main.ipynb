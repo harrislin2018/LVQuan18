{
 "cells": [
  {
   "cell_type": "markdown",
   "metadata": {},
   "source": [
    "# Left Ventricle Full Quantification (LVQuan18) Challenge MICCAI 2018"
   ]
  },
  {
   "cell_type": "markdown",
   "metadata": {},
   "source": [
    "Accurate cardiac left ventricle (LV) quantification is among the most clinically important and most frequently demanded tasks for identification and diagnosis of cardiac diseases and is of great interest in the research community of medical image analysis.\n",
    "\n",
    "### The task\n",
    "\n",
    "We must segment the LV from the SAX MR sequences of the heart. The focus will be on full quantification of LV, i.e., all clinical significant LV indices regarding to the anatomical structure of LV are investigated in addition to the frequently studied LV volume;\n",
    "\n",
    "### The dataset\n",
    "\n",
    "A training dataset with processed SAX MR sequences of 145 subjects from clinical environment is used for model learning and validation. For each subject, 20 frames are included for the whole cardiac cycle. All ground truth values of the above-mentioned LV indices are provided for every single frame. More details about the training dataset can be found in the document of the DIG-Cardiac dataset. "
   ]
  }
 ],
 "metadata": {
  "kernelspec": {
   "display_name": "Python 3",
   "language": "python",
   "name": "python3"
  },
  "language_info": {
   "codemirror_mode": {
    "name": "ipython",
    "version": 3
   },
   "file_extension": ".py",
   "mimetype": "text/x-python",
   "name": "python",
   "nbconvert_exporter": "python",
   "pygments_lexer": "ipython3",
   "version": "3.6.2"
  }
 },
 "nbformat": 4,
 "nbformat_minor": 2
}
