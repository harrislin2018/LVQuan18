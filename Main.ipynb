{
 "cells": [
  {
   "cell_type": "markdown",
   "metadata": {},
   "source": [
    "# Left Ventricle Full Quantification (LVQuan18) Challenge MICCAI 2018"
   ]
  },
  {
   "cell_type": "markdown",
   "metadata": {},
   "source": [
    "\n",
    "Accurate cardiac left ventricle (LV) quantification is among the most clinically important and most frequently demanded tasks for identification and diagnosis of cardiac diseases and is of great interest in the research community of medical image analysis.\n",
    "To explain what the challenge is about in the context of machine learning, I use the approach explained here:\n",
    "https://machinelearningmastery.com/how-to-define-your-machine-learning-problem/.\n",
    "\n",
    "It involves answering three questions:\n",
    "\n",
    "### Problem description\n",
    "\n",
    "In one sentence, we want a system that will find some information about the Left Ventricle (LV) out of cardiac images\n",
    "to diagnose some heart diseases.\n",
    "\n",
    "Tom Mitchell’s definition of a machine learning problem requires the definition of Tasks,\n",
    "Experience and Performance. These terms are defined for this problem as follows:\n",
    "\n",
    "* Tasks: Compute LV indices of each slice of patient cardiac SAX MR images. These indices are:\n",
    "\n",
    "    1. Areas of LV cavity and myocardium : $A_{1}$ and $A_{2}$ (see Fig.1(a))\n",
    "    2. Dimensions of LV cavity: $D_{1}, D_{2}$ and $D_{3}$ (see Fig.1(b))\n",
    "    3. Reginal Wall Thickness of myocardium: $RWT_{1}, ..., RWT_{6}$ (see Fig.1(c))\n",
    "    4. Cardiac phase (when images are acquired): diastole (0) or systole(1) (see Fig.1(d))\n",
    "   \n",
    "   <figure>\n",
    "  <img src=\"lvquan.jpg\" width=\"600\">\n",
    "  <figcaption> <center> Figure 1. LV indices to find. Orange and green areas are respectively LV cavity and myocardium.\n",
    "  </center> </figcaption>\n",
    "</figure>\n",
    "   \n",
    "    \n",
    "* Experiences: A set of 145 anonymized patient cardiac SAX MR images with all 4 indices for each slice.\n",
    "\n",
    "\n",
    "* Performance: Mean Absolute Error (MAE) to assess the performance of the method for estimation of indices 1,2 and 3. For the last indice, the Error Rate of the misclassified cardiac phase is used. Their formulae are:\n",
    "\n",
    "\n",
    "$ MAE_{indice} = \\frac{\\sum_{i=1}^{N} \\lvert Pred^{indice}_{i}  -  GT^{indice}_{i} \\rvert }{N} $\n",
    "\n",
    "$ER_{phase} = \\frac{\\sum_{i=1}^{N} Cardinal(Pred^{phase}_{i} \\neq GT^{phase}_{i}) }{N} $\n",
    "\n",
    "### The dataset provided\n",
    "\n",
    "A training dataset with processed SAX MR sequences of 145 subjects from clinical environment is used for model learning and validation.\n",
    "\n",
    "For each subject, 20 frames are included for the whole cardiac cycle. All ground truth values of the above-mentioned LV indices are provided for every single frame. More details about the training dataset can be found in the document of the DIG-Cardiac dataset. \n",
    "\n",
    "\n",
    "A complete information of the challenge can be found at: https://lvquan18.github.io/\n",
    "\n",
    "References: \n",
    "\n",
    "[1]: Figure 1 from https://lvquan18.github.io/2018/03/12/objective.html"
   ]
  },
  {
   "cell_type": "code",
   "execution_count": 35,
   "metadata": {
    "collapsed": true
   },
   "outputs": [],
   "source": [
    "import numpy as np\n",
    "from matplotlib import pyplot as plt\n",
    "from fastai.conv_learner import *\n",
    "from fastai.dataset import *\n",
    "\n",
    "from pathlib import Path\n",
    "import json\n",
    "from PIL import ImageDraw, ImageFont\n",
    "from matplotlib import patches, patheffects\n",
    "%matplotlib inline\n",
    "%reload_ext autoreload\n",
    "%autoreload 2\n",
    "\n",
    "PATH ='./'"
   ]
  },
  {
   "cell_type": "markdown",
   "metadata": {},
   "source": [
    "## Dataset exploration\n",
    "\n",
    "The provided dataset is a matlab file (.mat). \n",
    "\n",
    "Thus we're going to use scipy.io which can open this kind of file in python."
   ]
  },
  {
   "cell_type": "code",
   "execution_count": 116,
   "metadata": {},
   "outputs": [
    {
     "data": {
      "text/plain": [
       "dict_keys(['__header__', '__version__', '__globals__', 'areas', 'dims', 'endo_LV', 'epi_LV', 'images_LV', 'lv_phase', 'pix_spa', 'ratio_resize_inverse', 'rwt'])"
      ]
     },
     "execution_count": 116,
     "metadata": {},
     "output_type": "execute_result"
    }
   ],
   "source": [
    "import scipy.io as sio\n",
    "\n",
    "data = sio.loadmat(PATH+'cardiac-dig.mat')\n",
    "data.keys()\n"
   ]
  },
  {
   "cell_type": "code",
   "execution_count": 3,
   "metadata": {},
   "outputs": [
    {
     "data": {
      "text/plain": [
       "'(80, 80, 2900), 2900 / 20 frames =  145.0 patients'"
      ]
     },
     "execution_count": 3,
     "metadata": {},
     "output_type": "execute_result"
    }
   ],
   "source": [
    "f'{data[\"images_LV\"].shape}, 2900 / 20 frames =  {2900/20} patients'"
   ]
  },
  {
   "cell_type": "code",
   "execution_count": 4,
   "metadata": {},
   "outputs": [
    {
     "name": "stdout",
     "output_type": "stream",
     "text": [
      "Number of sequences in diastolic phase :  84\n",
      "Number of sequences in systolic phase  :  61\n",
      "Total                                  : 145\n"
     ]
    }
   ],
   "source": [
    "n_diastolic = np.sum(data[\"lv_phase\"] == 0) // 20\n",
    "n_systolic = np.sum(data[\"lv_phase\"] == 1) // 20\n",
    "print(f'Number of sequences in diastolic phase :  {n_diastolic}')\n",
    "print(f'Number of sequences in systolic phase  :  {n_systolic}')\n",
    "print(f'Total                                  : {n_diastolic + n_systolic}')\n"
   ]
  },
  {
   "cell_type": "markdown",
   "metadata": {},
   "source": [
    "### An analysis of the relation between LV cavity area and the phase"
   ]
  },
  {
   "cell_type": "code",
   "execution_count": 203,
   "metadata": {
    "scrolled": true
   },
   "outputs": [
    {
     "name": "stdout",
     "output_type": "stream",
     "text": [
      "[0 1 1 1 1 1 1 1 0 0 0 0 0 0 0 0 0 0 0 0]\n",
      "[0 1 1 1 1 1 1 1 1 0 0 0 0 0 0 0 0 0 0 0]\n",
      "[0 0 1 1 1 1 1 0 0 0 0 0 0 0 0 0 0 0 0 0]\n",
      "[1 1 1 1 1 1 1 0 0 0 0 0 0 0 0 0 0 0 0 1]\n",
      "[1 1 1 1 1 1 1 1 0 0 0 0 0 0 0 0 0 0 0 0]\n"
     ]
    },
    {
     "data": {
      "text/plain": [
       "Text(0,0.5,'Area of LV cavity')"
      ]
     },
     "execution_count": 203,
     "metadata": {},
     "output_type": "execute_result"
    },
    {
     "data": {
      "image/png": "[encoded data removed]",
      "text/plain": [
       "<matplotlib.figure.Figure at 0x7f69dbf11208>"
      ]
     },
     "metadata": {},
     "output_type": "display_data"
    }
   ],
   "source": [
    "S = 20\n",
    "k = 5\n",
    "A = 0\n",
    "for i in range(k):\n",
    "    print(data['lv_phase'][0,i*S:(i+1)*S])\n",
    "    \n",
    "plt.plot(data['areas'][A,:S], 'b', range(S, 2*S), data['areas'][A,S:S+S], 'r',\n",
    "        range(2*S, 3*S), data['areas'][A,2*S:3*S], 'g', \n",
    "        range(3*S, 4*S), data['areas'][A,3*S:4*S], 'b',\n",
    "        range(4*S, 5*S), data['areas'][A,4*S:5*S], 'r')\n",
    "plt.xlabel('slice number')\n",
    "plt.ylabel('Area of LV cavity')"
   ]
  },
  {
   "cell_type": "markdown",
   "metadata": {},
   "source": [
    "**Remark:**\n",
    "\n",
    "It appears from the plot above that when the LV cavity area decreases, the phase is 1: Systole.\n",
    "\n",
    "And, it equals 0 (diastole) when LV cavity increases. So one way to find the phase is to track\n",
    "the LV cavity area"
   ]
  },
  {
   "cell_type": "code",
   "execution_count": 5,
   "metadata": {
    "collapsed": true
   },
   "outputs": [],
   "source": [
    "patient = data['images_LV'][:,:,:20]\n",
    "seg_endo = data['endo_LV'][:,:,:20]\n",
    "seg_epi = data['epi_LV'][:,:,:20]\n",
    "\n",
    "def get_sample(seq, size=3):\n",
    "    return np.hstack([seq[:,:,i] for i in range(size)])"
   ]
  },
  {
   "cell_type": "code",
   "execution_count": 9,
   "metadata": {
    "scrolled": true
   },
   "outputs": [
    {
     "data": {
      "image/png": "[encoded data removed]",
      "text/plain": [
       "<matplotlib.figure.Figure at 0x7f69eae68748>"
      ]
     },
     "metadata": {},
     "output_type": "display_data"
    }
   ],
   "source": [
    "n = 10\n",
    "slice_sample = get_sample(patient, n)\n",
    "seg_endo_sample = get_sample(seg_endo, n)\n",
    "seg_epi_sample = get_sample(seg_epi, n)\n",
    "samples = np.vstack((slice_sample, seg_endo_sample, seg_epi_sample))\n",
    "plt.imshow(samples, cmap='gray')\n",
    "plt.title(f'{n} slices')\n",
    "plt.axis(\"off\")\n",
    "plt.show()\n"
   ]
  },
  {
   "cell_type": "code",
   "execution_count": 81,
   "metadata": {},
   "outputs": [
    {
     "name": "stdout",
     "output_type": "stream",
     "text": [
      "dims attribute (3, 2900) [ 0.40795  0.4411   0.40617]\n",
      "areas attribute (2, 2900) [ 0.13742  0.09059]\n",
      "rwt attribute (6, 2900) [ 0.06005  0.04753  0.05253  0.05125  0.04902  0.06165]\n"
     ]
    }
   ],
   "source": [
    "print ('dims attribute', data['dims'].shape, data['dims'][:,0])\n",
    "print ('areas attribute', data['areas'].shape, data['areas'][:,0])\n",
    "print ('rwt attribute', data['rwt'].shape, data['rwt'][:,0])"
   ]
  },
  {
   "cell_type": "markdown",
   "metadata": {},
   "source": [
    "## Visualization of endocardium and epicardium"
   ]
  },
  {
   "cell_type": "code",
   "execution_count": 167,
   "metadata": {},
   "outputs": [
    {
     "data": {
      "text/plain": [
       "<matplotlib.image.AxesImage at 0x7f69e0600710>"
      ]
     },
     "execution_count": 167,
     "metadata": {},
     "output_type": "execute_result"
    },
    {
     "data": {
      "image/png": "[encoded data removed]",
      "text/plain": [
       "<matplotlib.figure.Figure at 0x7f69e06f6c50>"
      ]
     },
     "metadata": {},
     "output_type": "display_data"
    }
   ],
   "source": [
    "red  = (255, 0, 0) #np.array([255, 0, 0], dtype=np.uint8)\n",
    "green = (0, 255, 0) #np.array([0, 255, 0], dtype=np.uint8)\n",
    "blue   = (0, 0, 255) \n",
    "def overlay(im, mask, color):\n",
    "    overlaid = im.copy()\n",
    "    for i in range(im.shape[0]):\n",
    "        for j in range(im.shape[1]):\n",
    "            if (mask[i,j] > 100).all():\n",
    "                overlaid[i,j] = color\n",
    "    return overlaid\n",
    "\n",
    "pat_endo = data['endo_LV'][:,:,200]\n",
    "pat_endo = make_cv2_compatible(pat_endo)\n",
    "pat_epi = data['epi_LV'][:,:,200]\n",
    "pat_epi = make_cv2_compatible(pat_epi)\n",
    "both = overlay(pat_epi, pat_endo, red)\n",
    "plt.imshow(both)\n",
    "\n"
   ]
  },
  {
   "cell_type": "markdown",
   "metadata": {},
   "source": [
    "## Compute Bounding Boxes of endocardium and epicardium segments"
   ]
  },
  {
   "cell_type": "code",
   "execution_count": 169,
   "metadata": {},
   "outputs": [
    {
     "name": "stdout",
     "output_type": "stream",
     "text": [
      "(80, 80, 3)\n",
      "1\n",
      "(22, 20, 50, 43)\n"
     ]
    },
    {
     "data": {
      "text/plain": [
       "<matplotlib.image.AxesImage at 0x7f69e0945e48>"
      ]
     },
     "execution_count": 169,
     "metadata": {},
     "output_type": "execute_result"
    },
    {
     "data": {
      "image/png": "[encoded data removed]",
      "text/plain": [
       "<matplotlib.figure.Figure at 0x7f69e068d860>"
      ]
     },
     "metadata": {},
     "output_type": "display_data"
    }
   ],
   "source": [
    "import cv2\n",
    "\n",
    "def make_cv2_compatible(img, cmap='gray'):\n",
    "    plt.imsave(\"tmp.jpg\", img, cmap=cmap )\n",
    "    im = cv2.imread('tmp.jpg')\n",
    "    return im\n",
    "\n",
    "def min_max(x):\n",
    "    return np.min(x), np.max(x)\n",
    "\n",
    "\n",
    "def meth1(pat):\n",
    "    xs, ys = np.where(pat==1)\n",
    "    min_x, max_x = min_max(xs)\n",
    "    min_y, max_y = min_max(ys)\n",
    "    # points = [[xs[i], ys[i]] for i in [min_x, max_x, min_y, max_y]]\n",
    "    points = np.array([[min_y,min_x], [max_y,max_x]])\n",
    "    return  cv2.boundingRect(points)\n",
    " \n",
    "def get_bb(pat):\n",
    "    im = make_cv2_compatible(pat)\n",
    "    ctrs= cv2.findContours( cv2.cvtColor(im, cv2.COLOR_BGR2GRAY),cv2.RETR_EXTERNAL,cv2.CHAIN_APPROX_SIMPLE )[1]\n",
    "    return cv2.boundingRect(ctrs[0])\n",
    "    \n",
    "pat = data['epi_LV'][:,:,200]\n",
    "\n",
    "\n",
    "\n",
    "\n",
    "xs, ys = np.where(pat==1)\n",
    "\n",
    "min_x, max_x = min_max(xs)\n",
    "min_y, max_y = min_max(ys)\n",
    "# points = [[xs[i], ys[i]] for i in [min_x, max_x, min_y, max_y]]\n",
    "points = np.array([[min_y,min_x], [max_y,max_x]])\n",
    "# seg_endo[:,:,0][22,39]\n",
    "pat = make_cv2_compatible(pat)\n",
    "print(pat.shape)\n",
    "ctrs= cv2.findContours( cv2.cvtColor(pat, cv2.COLOR_BGR2GRAY),cv2.RETR_EXTERNAL,cv2.CHAIN_APPROX_SIMPLE )[1]\n",
    "print(len(ctrs))\n",
    "(x, y, w, h) = cv2.boundingRect(points)\n",
    "print((x, y, w, h))\n",
    "cv2.rectangle(both,(x, y), (x + w, y + h), (0, 0, 255), 1)\n",
    "plt.imshow(both)"
   ]
  },
  {
   "cell_type": "code",
   "execution_count": 158,
   "metadata": {},
   "outputs": [
    {
     "name": "stdout",
     "output_type": "stream",
     "text": [
      "(80, 80, 2900) 2900\n"
     ]
    }
   ],
   "source": [
    "n = data[\"images_LV\"].shape[-1]\n",
    "print(data['endo_LV'].shape,n)\n",
    "endo_bb = [meth1(data['endo_LV'][:,:,i]) for i in range(n)]\n",
    "epi_bb = [meth1(data['epi_LV'][:,:,i]) for i in range(n)]"
   ]
  },
  {
   "cell_type": "code",
   "execution_count": null,
   "metadata": {},
   "outputs": [],
   "source": []
  }
 ],
 "metadata": {
  "kernelspec": {
   "display_name": "Python 3",
   "language": "python",
   "name": "python3"
  },
  "language_info": {
   "codemirror_mode": {
    "name": "ipython",
    "version": 3
   },
   "file_extension": ".py",
   "mimetype": "text/x-python",
   "name": "python",
   "nbconvert_exporter": "python",
   "pygments_lexer": "ipython3",
   "version": "3.6.2"
  }
 },
 "nbformat": 4,
 "nbformat_minor": 2
}
